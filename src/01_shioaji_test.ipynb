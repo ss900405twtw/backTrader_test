{
 "cells": [
  {
   "cell_type": "markdown",
   "id": "025fb8fb",
   "metadata": {},
   "source": [
    "# API測試流程\n",
    "\n",
    "### 事前準備\n",
    "- 已於永豐金開立證券/期貨戶，若尚未開戶請詳見[永豐金線上開戶](https://www.sinotrade.com.tw/openact?strProd=0133&strWeb=8888)。\n",
    "- 已於永豐金[線上簽署中心](https://www.sinotrade.com.tw/newweb/Inside_Frame?URL=https://service.sinotrade.com.tw/signCenter/index/)簽署**API證券(期貨)下單簽署**，並詳閱說明文件。\n",
    "\n",
    "### 注意事項\n",
    "- 客戶需於API模擬環境完成**登入**及**下單**測試(證券、期貨需分別測試)，待測試紀錄審核通過後(當日審核完畢，最快約10分鐘)，即可開通正式環境API下單權限。\n",
    "- API下單簽署時間須早於API測試的時間，以利審核通過。\n",
    "- API模擬環境開放時間: **營業日 2pm ~ 6pm**\n",
    "- Python API(Shioaji)請使用 0.3.6.dev3 以上版本。\n",
    "\n",
    "### Jupyter Notebook操作方式\n",
    "- `Shift + Enter` 執行程式碼"
   ]
  },
  {
   "cell_type": "markdown",
   "id": "440fdaa3",
   "metadata": {},
   "source": [
    "# 1. Shioaji環境\n",
    "---"
   ]
  },
  {
   "cell_type": "markdown",
   "id": "7aac22c0",
   "metadata": {},
   "source": [
    "- 若為依照「Python環境安裝說明」，請確認右上角Logout下方為`shioaji_env`，即表示使用正確的python環境\n",
    "- 若非shioaji環境，請點擊Kernel -> Change kernel -> `shioaji_env` 更換環境"
   ]
  },
  {
   "cell_type": "code",
   "execution_count": 1,
   "id": "21f4eee5",
   "metadata": {},
   "outputs": [],
   "source": [
    "import shioaji as sj # 載入永豐金Python API\n",
    "import pandas as pd\n",
    "import pandas"
   ]
  },
  {
   "cell_type": "code",
   "execution_count": 2,
   "id": "ad5fec75",
   "metadata": {},
   "outputs": [
    {
     "data": {
      "text/plain": [
       "['/usr/local/lib/python3.8/dist-packages/shioaji']"
      ]
     },
     "execution_count": 2,
     "metadata": {},
     "output_type": "execute_result"
    }
   ],
   "source": [
    "sj.__path__ # 路徑為\"**\\\\Miniconda3\\\\Lib\\\\site-packages\\\\shioaji\""
   ]
  },
  {
   "cell_type": "code",
   "execution_count": 3,
   "id": "84935797",
   "metadata": {},
   "outputs": [
    {
     "data": {
      "text/plain": [
       "'1.1.12'"
      ]
     },
     "execution_count": 3,
     "metadata": {},
     "output_type": "execute_result"
    }
   ],
   "source": [
    "sj.__version__ # 版本為 \"0.3.6.dev3\""
   ]
  },
  {
   "cell_type": "code",
   "execution_count": 4,
   "id": "9c5b59f8",
   "metadata": {},
   "outputs": [
    {
     "name": "stdout",
     "output_type": "stream",
     "text": [
      "Response Code: 0 | Event Code: 0 | Info: host '203.66.91.161:80', IP 203.66.91.161:80 (host 1 of 1) (host connection attempt 1 of 1) (total connection attempt 1 of 1) | Event: Session up\n"
     ]
    },
    {
     "data": {
      "text/plain": [
       "[Account(account_type=<AccountType.H: 'H'>, person_id='M122602581', broker_id='9A95', account_id='00440354', username='吳睿哲'),\n",
       " StockAccount(person_id='M122602581', broker_id='9A95', account_id='0895535', username='吳睿哲')]"
      ]
     },
     "execution_count": 4,
     "metadata": {},
     "output_type": "execute_result"
    }
   ],
   "source": [
    "import shioaji as sj\n",
    "api = sj.Shioaji()\n",
    "api.login(\n",
    "    api_key=\"5AQ7wb1MjGewvpcDWummupjYUotCaUS3z8w5aoGcmKhm\", \n",
    "    secret_key=\"8vpvbyW6CtupiwH68uieJYnfKAGZxMoPaVb4GfjjLL17\"\n",
    ")"
   ]
  },
  {
   "cell_type": "code",
   "execution_count": 5,
   "id": "8c7ce5cd",
   "metadata": {},
   "outputs": [
    {
     "name": "stdout",
     "output_type": "stream",
     "text": [
      "['_code2contract', '_fetched', '_page_list', '_max_page', '__slots__']\n"
     ]
    }
   ],
   "source": [
    "a = api.Contracts.Futures\n",
    "\n",
    "v = vars(api.Contracts.Futures)\n",
    "l = list(v.keys())\n",
    "print(l)"
   ]
  },
  {
   "cell_type": "code",
   "execution_count": 7,
   "id": "aee7ddb9",
   "metadata": {},
   "outputs": [
    {
     "name": "stdout",
     "output_type": "stream",
     "text": [
      "                   ts   High    Low   Open       Amount  Volume  Close\n",
      "0 2020-09-15 09:01:00  440.5  439.5  440.5  966591000.0    2195  439.5\n",
      "1 2020-09-15 09:02:00  440.5  439.5  440.0  167189000.0     380  440.5\n",
      "2 2020-09-15 09:03:00  441.0  440.0  440.5   70048000.0     159  441.0\n",
      "3 2020-09-15 09:04:00  441.0  440.5  440.5   74487000.0     169  441.0\n",
      "4 2020-09-15 09:05:00  441.0  440.5  441.0   82875000.0     188  441.0\n",
      "                       ts   High    Low   Open        Amount  Volume  Close\n",
      "62233 2021-08-30 13:22:00  603.0  602.0  602.0  6.026700e+07     100  602.0\n",
      "62234 2021-08-30 13:23:00  603.0  602.0  603.0  1.054800e+08     175  602.0\n",
      "62235 2021-08-30 13:24:00  603.0  602.0  602.0  2.815460e+08     467  603.0\n",
      "62236 2021-08-30 13:25:00  603.0  602.0  603.0  9.701900e+07     161  603.0\n",
      "62237 2021-08-30 13:30:00  605.0  605.0  605.0  3.762495e+09    6219  605.0\n"
     ]
    }
   ],
   "source": [
    "kbars = api.kbars(api.Contracts.Stocks[\"2330\"], start=\"2020-09-15\", end=\"2021-08-30\")\n",
    "df = pandas.DataFrame({**kbars})\n",
    "df.ts = pandas.to_datetime(df.ts)\n",
    "\n",
    "print(df.head())\n",
    "print(df.tail())"
   ]
  },
  {
   "cell_type": "code",
   "execution_count": 41,
   "id": "836d7a61",
   "metadata": {},
   "outputs": [],
   "source": [
    "start_date = \"2023-07-01\"\n",
    "end_date = \"2023-08-01\""
   ]
  },
  {
   "cell_type": "code",
   "execution_count": 8,
   "id": "a2b18564",
   "metadata": {},
   "outputs": [
    {
     "name": "stdout",
     "output_type": "stream",
     "text": [
      "    Open  Close   High    Low  Amount  Volume                  ts\n",
      "0  117.5  117.5  117.5  117.5   117.5       1 2022-04-27 08:48:00\n",
      "1  117.5  117.5  117.5  117.5   117.5       1 2022-04-27 08:51:00\n",
      "2  117.5  117.5  117.5  117.5   117.5       1 2022-04-27 09:02:00\n",
      "3  117.5  117.5  117.5  117.5   117.5       1 2022-04-27 09:05:00\n",
      "4  117.5  118.0  118.0  117.5   823.0       7 2022-04-27 09:06:00\n",
      "       Open  Close  High   Low  Amount  Volume                  ts\n",
      "12299  90.2   90.2  90.2  90.2   180.4       2 2022-08-01 13:39:00\n",
      "12300  90.1   90.0  90.1  90.0   450.4       5 2022-08-01 13:41:00\n",
      "12301  90.0   90.0  90.0  90.0   180.0       2 2022-08-01 13:43:00\n",
      "12302  90.1   90.1  90.1  90.1    90.1       1 2022-08-01 13:44:00\n",
      "12303  90.1   90.0  90.2  90.0  1622.4      18 2022-08-01 13:45:00\n"
     ]
    }
   ],
   "source": [
    "# pi.Contracts.Futures.TXF.TXFR1\n",
    "kbars = api.kbars(api.Contracts.Futures.DAF['DAFR1'], start=\"2020-07-01\", end=\"2022-08-01\")\n",
    "df = pandas.DataFrame({**kbars})\n",
    "df.ts = pandas.to_datetime(df.ts)\n",
    "\n",
    "print(df.head())\n",
    "print(df.tail())"
   ]
  },
  {
   "cell_type": "code",
   "execution_count": 39,
   "id": "1ccbf414",
   "metadata": {},
   "outputs": [],
   "source": [
    "def get_future_k_bars(api, future_name, start_date, end_date):\n",
    "    kbars = api.kbars(api.Contracts.Futures[future_name][future_name+\"R1\"], start=start_date, end=end_date)\n",
    "    df = pandas.DataFrame({**kbars})\n",
    "    df.ts = pandas.to_datetime(df.ts)\n",
    "    return df\n"
   ]
  },
  {
   "cell_type": "code",
   "execution_count": 42,
   "id": "ebbb91a2",
   "metadata": {},
   "outputs": [
    {
     "name": "stdout",
     "output_type": "stream",
     "text": [
      "                        ts   High    Low   Open   Amount  Volume  Close\n",
      "0      2020-07-01 08:46:00  314.0  314.0  314.0  31714.0     101  314.0\n",
      "1      2020-07-01 08:47:00  314.0  314.0  314.0   3454.0      11  314.0\n",
      "2      2020-07-01 08:48:00  314.0  314.0  314.0   2512.0       8  314.0\n",
      "3      2020-07-01 08:49:00  314.0  314.0  314.0   6908.0      22  314.0\n",
      "4      2020-07-01 08:50:00  314.0  314.0  314.0   1256.0       4  314.0\n",
      "...                    ...    ...    ...    ...      ...     ...    ...\n",
      "167026 2023-08-01 13:39:00  568.0  568.0  568.0   3408.0       6  568.0\n",
      "167027 2023-08-01 13:42:00  568.0  568.0  568.0   2840.0       5  568.0\n",
      "167028 2023-08-01 13:43:00  568.0  568.0  568.0    568.0       1  568.0\n",
      "167029 2023-08-01 13:44:00  568.0  567.0  568.0   1135.0       2  567.0\n",
      "167030 2023-08-01 13:45:00  568.0  567.0  567.0   2269.0       4  567.0\n",
      "\n",
      "[167031 rows x 7 columns]\n"
     ]
    }
   ],
   "source": [
    "\n",
    "df = get_future_k_bars(api, \"CDF\", start_date, end_date)\n",
    "print(df)"
   ]
  },
  {
   "cell_type": "code",
   "execution_count": 65,
   "id": "554c903e",
   "metadata": {},
   "outputs": [
    {
     "name": "stdout",
     "output_type": "stream",
     "text": [
      "IOF\n",
      "CZF\n",
      "FEF\n",
      "FZF\n",
      "DSF\n",
      "NJF\n"
     ]
    }
   ],
   "source": [
    "# miss DUF\n",
    "target_id_file = \"/home/ss900405tw/Desktop/stockPredict/backTrader/data/all_target.txt\"\n",
    "df = pd.read_csv(File)\n",
    "target = list(df['Future'])\n",
    "\n",
    "root = \"/home/ss900405tw/Desktop/stockPredict/backTrader/data/future/\"\n",
    "start_date = \"2020-07-01\"\n",
    "end_date = \"2023-08-01\"\n",
    "for future_name in res_target:\n",
    "    print(future_name)\n",
    "    df = get_future_k_bars(api, future_name, start_date, end_date)\n",
    "    df.to_csv(root+future_name+\".csv\", index=False)"
   ]
  },
  {
   "cell_type": "code",
   "execution_count": 54,
   "id": "9f1d2b55",
   "metadata": {},
   "outputs": [
    {
     "name": "stdout",
     "output_type": "stream",
     "text": [
      "['QJF', 'CHF', 'IPF', 'HCF', 'NVF', 'DDF', 'JNF', 'CXF', 'DXF', 'LRF', 'GUF', 'FVF', 'FNF', 'OAF', 'PEF', 'QXF', 'JZF', 'OUF', 'IRF', 'CDF', 'JSF', 'DIF', 'CFF', 'LXF', 'DQF', 'HSF', 'GHF', 'GCF', 'IIF', 'KPF', 'KFF', 'CCF', 'PPF', 'QWF', 'RCF', 'GRF', 'CEF', 'DKF', 'NSF', 'HBF', 'NDF', 'QFF', 'KGF', 'KDF', 'LEF', 'CBF', 'FTF', 'EGF', 'FYF', 'OEF', 'DFF', 'GWF', 'NYF', 'FQF', 'FWF', 'QCF', 'PUF', 'CUF', 'QBF', 'DBF', 'PAF', 'DVF', 'RJF', 'OZF', 'GXF', 'RAF', 'DAF', 'EMF', 'OSF', 'PLF', 'CSF', 'OLF', 'NOF', 'PSF', 'QHF', 'DHF', 'LQF', 'CYF', 'PTF', 'IMF', 'NAF', 'IXF', 'CKF', 'LYF', 'HLF', 'GNF', 'DUF', 'KWF', 'EEF', 'JBF', 'MCF', 'IOF', 'CZF', 'FEF', 'FZF', 'DSF', 'NJF']\n"
     ]
    }
   ],
   "source": [
    "print(target)"
   ]
  },
  {
   "cell_type": "code",
   "execution_count": 48,
   "id": "30f51156",
   "metadata": {},
   "outputs": [
    {
     "ename": "AttributeError",
     "evalue": "'StreamFutureContracts' object has no attribute 'DUF'",
     "output_type": "error",
     "traceback": [
      "\u001b[0;31m---------------------------------------------------------------------------\u001b[0m",
      "\u001b[0;31mAttributeError\u001b[0m                            Traceback (most recent call last)",
      "\u001b[0;32m<ipython-input-48-01f3c87c0518>\u001b[0m in \u001b[0;36m<module>\u001b[0;34m\u001b[0m\n\u001b[0;32m----> 1\u001b[0;31m \u001b[0mapi\u001b[0m\u001b[0;34m.\u001b[0m\u001b[0mContracts\u001b[0m\u001b[0;34m.\u001b[0m\u001b[0mFutures\u001b[0m\u001b[0;34m.\u001b[0m\u001b[0mDUF\u001b[0m\u001b[0;34m\u001b[0m\u001b[0;34m\u001b[0m\u001b[0m\n\u001b[0m",
      "\u001b[0;32m/usr/local/lib/python3.8/dist-packages/shioaji/contracts.py\u001b[0m in \u001b[0;36m__getattr__\u001b[0;34m(self, attr)\u001b[0m\n\u001b[1;32m    194\u001b[0m         \u001b[0;32mif\u001b[0m \u001b[0;32mnot\u001b[0m \u001b[0mattr\u001b[0m\u001b[0;34m.\u001b[0m\u001b[0mstartswith\u001b[0m\u001b[0;34m(\u001b[0m\u001b[0;34m\"_\"\u001b[0m\u001b[0;34m)\u001b[0m\u001b[0;34m:\u001b[0m\u001b[0;34m\u001b[0m\u001b[0;34m\u001b[0m\u001b[0m\n\u001b[1;32m    195\u001b[0m             \u001b[0mself\u001b[0m\u001b[0;34m.\u001b[0m\u001b[0m_block\u001b[0m\u001b[0;34m(\u001b[0m\u001b[0;34m)\u001b[0m\u001b[0;34m\u001b[0m\u001b[0;34m\u001b[0m\u001b[0m\n\u001b[0;32m--> 196\u001b[0;31m         \u001b[0;32mif\u001b[0m \u001b[0mobject\u001b[0m\u001b[0;34m.\u001b[0m\u001b[0m__getattribute__\u001b[0m\u001b[0;34m(\u001b[0m\u001b[0mself\u001b[0m\u001b[0;34m,\u001b[0m \u001b[0mattr\u001b[0m\u001b[0;34m)\u001b[0m\u001b[0;34m:\u001b[0m\u001b[0;34m\u001b[0m\u001b[0;34m\u001b[0m\u001b[0m\n\u001b[0m\u001b[1;32m    197\u001b[0m             \u001b[0;32mreturn\u001b[0m \u001b[0mobject\u001b[0m\u001b[0;34m.\u001b[0m\u001b[0m__getattribute__\u001b[0m\u001b[0;34m(\u001b[0m\u001b[0mself\u001b[0m\u001b[0;34m,\u001b[0m \u001b[0mattr\u001b[0m\u001b[0;34m)\u001b[0m\u001b[0;34m\u001b[0m\u001b[0;34m\u001b[0m\u001b[0m\n\u001b[1;32m    198\u001b[0m \u001b[0;34m\u001b[0m\u001b[0m\n",
      "\u001b[0;31mAttributeError\u001b[0m: 'StreamFutureContracts' object has no attribute 'DUF'"
     ]
    }
   ],
   "source": [
    "api.Contracts.Futures.DUF"
   ]
  },
  {
   "cell_type": "code",
   "execution_count": 67,
   "id": "df9d4c86",
   "metadata": {},
   "outputs": [
    {
     "name": "stdout",
     "output_type": "stream",
     "text": [
      "{'CZF', 'OLF', 'FZF', 'QWF', 'IRF', 'OZF', 'NJF', 'QFF', 'CYF', 'CHF', 'GUF', 'GHF', 'QJF', 'CDF', 'KFF', 'GWF', 'OEF', 'JBF', 'QHF', 'FQF', 'FVF', 'NSF', 'HLF', 'LEF', 'CFF', 'DHF', 'PSF', 'FNF', 'CSF', 'NDF', 'DVF', 'QXF', 'IOF', 'CKF', 'DFF', 'IPF', 'HCF', 'JSF', 'GRF', 'QBF', 'FTF', 'QCF', 'PUF', 'FWF', 'GCF', 'GNF', 'RJF', 'LRF', 'OUF', 'DAF', 'CCF', 'NVF', 'CXF', 'IXF', 'JNF', 'LXF', 'EMF', 'PEF', 'DKF', 'KPF', 'DXF', 'DQF', 'DIF', 'OSF', 'NOF', 'GXF', 'IMF', 'KDF', 'CBF', 'KGF', 'LYF', 'FEF', 'LQF', 'EGF', 'DDF', 'FYF', 'NAF', 'PPF', 'DSF', 'IIF', 'PAF', 'CUF', 'KWF', 'HBF', 'RAF', 'PTF', 'HSF', 'PLF', 'EEF', 'DBF', 'RCF', 'NYF', 'OAF', 'CEF', 'JZF'}\n"
     ]
    }
   ],
   "source": [
    "import os\n",
    "target_path = root\n",
    "all_target = set()\n",
    "for file in os.listdir(target_path):\n",
    "#     df = pd.read_csv(os.path.join(target_path, file))\n",
    "    all_target.add(file.split(\".\")[0])\n",
    "print(all_target)"
   ]
  },
  {
   "cell_type": "code",
   "execution_count": 68,
   "id": "f4746aca",
   "metadata": {},
   "outputs": [
    {
     "name": "stdout",
     "output_type": "stream",
     "text": [
      "['DUF', 'MCF']\n"
     ]
    }
   ],
   "source": [
    "res_target = []\n",
    "for elem in target:\n",
    "    if elem not in all_target:\n",
    "        res_target.append(elem)\n",
    "# res_target.pop(0)\n",
    "# res_target.pop(0)\n",
    "print(res_target)"
   ]
  },
  {
   "cell_type": "markdown",
   "id": "7e487535",
   "metadata": {},
   "source": [
    "# 2. 登入\n",
    "---"
   ]
  },
  {
   "cell_type": "code",
   "execution_count": 5,
   "id": "0fc9d140",
   "metadata": {},
   "outputs": [],
   "source": [
    "# 勿更動，確保API操作均在模擬環境執行\n",
    "#################################\n",
    "\n",
    "# api = sj.Shioaji(simulation=False) # simulation=True 即表示使用模擬環境\n",
    "\n",
    "#################################"
   ]
  },
  {
   "cell_type": "code",
   "execution_count": 2,
   "id": "072e7050",
   "metadata": {},
   "outputs": [],
   "source": [
    "# 請輸入證券(期貨)身分證字號及密碼\n",
    "#################################\n",
    "\n",
    "PERSON_ID = \"M122602581\" #身分證字號\n",
    "PASSWORD = \"tall150cm\" #密碼\n",
    "\n",
    "#################################"
   ]
  },
  {
   "cell_type": "code",
   "execution_count": 7,
   "id": "cf7b7934",
   "metadata": {},
   "outputs": [
    {
     "name": "stdout",
     "output_type": "stream",
     "text": [
      "Response Code: 0 | Event Code: 0 | Info: host '203.66.91.161:80', IP 203.66.91.161:80 (host 1 of 1) (host connection attempt 1 of 1) (total connection attempt 1 of 1) | Event: Session up\n"
     ]
    },
    {
     "ename": "ValueError",
     "evalue": "Invalid character 'l'",
     "output_type": "error",
     "traceback": [
      "\u001b[0;31m---------------------------------------------------------------------------\u001b[0m",
      "\u001b[0;31mValueError\u001b[0m                                Traceback (most recent call last)",
      "\u001b[0;32m<ipython-input-7-233132b3d3a2>\u001b[0m in \u001b[0;36m<module>\u001b[0;34m\u001b[0m\n\u001b[0;32m----> 1\u001b[0;31m \u001b[0mapi\u001b[0m\u001b[0;34m.\u001b[0m\u001b[0mlogin\u001b[0m\u001b[0;34m(\u001b[0m\u001b[0mPERSON_ID\u001b[0m\u001b[0;34m,\u001b[0m \u001b[0mPASSWORD\u001b[0m\u001b[0;34m)\u001b[0m \u001b[0;31m# 登入\u001b[0m\u001b[0;34m\u001b[0m\u001b[0;34m\u001b[0m\u001b[0m\n\u001b[0m",
      "\u001b[0;32m/usr/local/lib/python3.8/dist-packages/shioaji/shioaji.py\u001b[0m in \u001b[0;36mlogin\u001b[0;34m(self, api_key, secret_key, fetch_contract, contracts_timeout, contracts_cb, subscribe_trade, receive_window)\u001b[0m\n\u001b[1;32m    325\u001b[0m             )\n\u001b[1;32m    326\u001b[0m         \u001b[0;32melse\u001b[0m\u001b[0;34m:\u001b[0m\u001b[0;34m\u001b[0m\u001b[0;34m\u001b[0m\u001b[0m\n\u001b[0;32m--> 327\u001b[0;31m             accounts, contract_download, person_id = self._solace.token_login(\n\u001b[0m\u001b[1;32m    328\u001b[0m                 \u001b[0mapi_key\u001b[0m\u001b[0;34m,\u001b[0m \u001b[0msecret_key\u001b[0m\u001b[0;34m,\u001b[0m \u001b[0msubscribe_trade\u001b[0m\u001b[0;34m,\u001b[0m \u001b[0mreceive_window\u001b[0m\u001b[0;34m\u001b[0m\u001b[0;34m\u001b[0m\u001b[0m\n\u001b[1;32m    329\u001b[0m             )\n",
      "\u001b[0;32mshioaji/backend/solace/api.pyx\u001b[0m in \u001b[0;36mshioaji.backend.solace.api.SolaceAPI.token_login\u001b[0;34m()\u001b[0m\n",
      "\u001b[0;32mshioaji/backend/solace/api.pyx\u001b[0m in \u001b[0;36mshioaji.backend.solace.api.SolaceAPI._token_login_request\u001b[0;34m()\u001b[0m\n",
      "\u001b[0;32m/usr/lib/python3/dist-packages/nacl/signing.py\u001b[0m in \u001b[0;36m__init__\u001b[0;34m(self, seed, encoder)\u001b[0m\n\u001b[1;32m    144\u001b[0m     \u001b[0;32mdef\u001b[0m \u001b[0m__init__\u001b[0m\u001b[0;34m(\u001b[0m\u001b[0mself\u001b[0m\u001b[0;34m,\u001b[0m \u001b[0mseed\u001b[0m\u001b[0;34m,\u001b[0m \u001b[0mencoder\u001b[0m\u001b[0;34m=\u001b[0m\u001b[0mencoding\u001b[0m\u001b[0;34m.\u001b[0m\u001b[0mRawEncoder\u001b[0m\u001b[0;34m)\u001b[0m\u001b[0;34m:\u001b[0m\u001b[0;34m\u001b[0m\u001b[0;34m\u001b[0m\u001b[0m\n\u001b[1;32m    145\u001b[0m         \u001b[0;31m# Decode the seed\u001b[0m\u001b[0;34m\u001b[0m\u001b[0;34m\u001b[0m\u001b[0;34m\u001b[0m\u001b[0m\n\u001b[0;32m--> 146\u001b[0;31m         \u001b[0mseed\u001b[0m \u001b[0;34m=\u001b[0m \u001b[0mencoder\u001b[0m\u001b[0;34m.\u001b[0m\u001b[0mdecode\u001b[0m\u001b[0;34m(\u001b[0m\u001b[0mseed\u001b[0m\u001b[0;34m)\u001b[0m\u001b[0;34m\u001b[0m\u001b[0;34m\u001b[0m\u001b[0m\n\u001b[0m\u001b[1;32m    147\u001b[0m         \u001b[0;32mif\u001b[0m \u001b[0;32mnot\u001b[0m \u001b[0misinstance\u001b[0m\u001b[0;34m(\u001b[0m\u001b[0mseed\u001b[0m\u001b[0;34m,\u001b[0m \u001b[0mbytes\u001b[0m\u001b[0;34m)\u001b[0m\u001b[0;34m:\u001b[0m\u001b[0;34m\u001b[0m\u001b[0;34m\u001b[0m\u001b[0m\n\u001b[1;32m    148\u001b[0m             raise exc.TypeError(\n",
      "\u001b[0;32mshioaji/backend/solace/utils.pyx\u001b[0m in \u001b[0;36mshioaji.backend.solace.utils.Base58Encoder.decode\u001b[0;34m()\u001b[0m\n",
      "\u001b[0;32m/usr/local/lib/python3.8/dist-packages/base58/__init__.py\u001b[0m in \u001b[0;36mb58decode\u001b[0;34m(v, alphabet, autofix)\u001b[0m\n\u001b[1;32m    122\u001b[0m     \u001b[0mnewlen\u001b[0m \u001b[0;34m=\u001b[0m \u001b[0mlen\u001b[0m\u001b[0;34m(\u001b[0m\u001b[0mv\u001b[0m\u001b[0;34m)\u001b[0m\u001b[0;34m\u001b[0m\u001b[0;34m\u001b[0m\u001b[0m\n\u001b[1;32m    123\u001b[0m \u001b[0;34m\u001b[0m\u001b[0m\n\u001b[0;32m--> 124\u001b[0;31m     \u001b[0macc\u001b[0m \u001b[0;34m=\u001b[0m \u001b[0mb58decode_int\u001b[0m\u001b[0;34m(\u001b[0m\u001b[0mv\u001b[0m\u001b[0;34m,\u001b[0m \u001b[0malphabet\u001b[0m\u001b[0;34m=\u001b[0m\u001b[0malphabet\u001b[0m\u001b[0;34m,\u001b[0m \u001b[0mautofix\u001b[0m\u001b[0;34m=\u001b[0m\u001b[0mautofix\u001b[0m\u001b[0;34m)\u001b[0m\u001b[0;34m\u001b[0m\u001b[0;34m\u001b[0m\u001b[0m\n\u001b[0m\u001b[1;32m    125\u001b[0m \u001b[0;34m\u001b[0m\u001b[0m\n\u001b[1;32m    126\u001b[0m     \u001b[0mresult\u001b[0m \u001b[0;34m=\u001b[0m \u001b[0;34m[\u001b[0m\u001b[0;34m]\u001b[0m\u001b[0;34m\u001b[0m\u001b[0;34m\u001b[0m\u001b[0m\n",
      "\u001b[0;32m/usr/local/lib/python3.8/dist-packages/base58/__init__.py\u001b[0m in \u001b[0;36mb58decode_int\u001b[0;34m(v, alphabet, autofix)\u001b[0m\n\u001b[1;32m    102\u001b[0m             \u001b[0mdecimal\u001b[0m \u001b[0;34m=\u001b[0m \u001b[0mdecimal\u001b[0m \u001b[0;34m*\u001b[0m \u001b[0mbase\u001b[0m \u001b[0;34m+\u001b[0m \u001b[0mmap\u001b[0m\u001b[0;34m[\u001b[0m\u001b[0mchar\u001b[0m\u001b[0;34m]\u001b[0m\u001b[0;34m\u001b[0m\u001b[0;34m\u001b[0m\u001b[0m\n\u001b[1;32m    103\u001b[0m     \u001b[0;32mexcept\u001b[0m \u001b[0mKeyError\u001b[0m \u001b[0;32mas\u001b[0m \u001b[0me\u001b[0m\u001b[0;34m:\u001b[0m\u001b[0;34m\u001b[0m\u001b[0;34m\u001b[0m\u001b[0m\n\u001b[0;32m--> 104\u001b[0;31m         raise ValueError(\n\u001b[0m\u001b[1;32m    105\u001b[0m             \u001b[0;34m\"Invalid character {!r}\"\u001b[0m\u001b[0;34m.\u001b[0m\u001b[0mformat\u001b[0m\u001b[0;34m(\u001b[0m\u001b[0mchr\u001b[0m\u001b[0;34m(\u001b[0m\u001b[0me\u001b[0m\u001b[0;34m.\u001b[0m\u001b[0margs\u001b[0m\u001b[0;34m[\u001b[0m\u001b[0;36m0\u001b[0m\u001b[0;34m]\u001b[0m\u001b[0;34m)\u001b[0m\u001b[0;34m)\u001b[0m\u001b[0;34m\u001b[0m\u001b[0;34m\u001b[0m\u001b[0m\n\u001b[1;32m    106\u001b[0m         ) from None\n",
      "\u001b[0;31mValueError\u001b[0m: Invalid character 'l'"
     ]
    }
   ],
   "source": [
    "# api.login(PERSON_ID, PASSWORD) # 登入"
   ]
  },
  {
   "cell_type": "code",
   "execution_count": null,
   "id": "9f29cab4",
   "metadata": {},
   "outputs": [],
   "source": []
  },
  {
   "cell_type": "markdown",
   "id": "316d3a0e",
   "metadata": {},
   "source": [
    "---\n",
    "### 登入執行範例:\n",
    "\n",
    "``` python\n",
    "Response Code: 0 | Event Code: 0 | Info: host '203.66.91.161:80', hostname '203.66.91.161:80' IP 203.66.91.161:80 (host 1 of 1) (host connection attempt 1 of 1) (total connection attempt 1 of 1) | Event: Session up  \n",
    "Response Code: 0 | Event Code: 0 | Info: host '218.32.76.102:80', hostname '218.32.76.102:80' IP 218.32.76.102:80 (host 1 of 1) (host connection attempt 1 of 1) (total connection attempt 1 of 1) | Event: Session up  \n",
    "\n",
    "[FutureAccount(person_id='QBCCAIGJBJ', broker_id='F002000', account_id='9100020', signed=True, username='PAPIUSER01'),\n",
    " StockAccount(person_id='QBCCAIGJBJ', broker_id='9A95', account_id='0504350', signed=True, username='PAPIUSER01')]\n",
    "```\n",
    "\n",
    "\n",
    "- 請確認 *person_id* 為非本人的身分證字號，若為本人身分證字號即表示連線至**正式環境**，請確認 *api = sj.Shioaji(simulation=True)*\n",
    "- FutureAccount為期貨模擬帳號\n",
    "- StockAccount為證券模擬帳號\n",
    "---\n",
    "\n",
    "### 常見問題:  \n",
    "\n",
    "1. 身分證字號或密碼錯誤  \n",
    "2. 非模擬環境開放時間(營業日2pm ~ 6pm)登入"
   ]
  },
  {
   "cell_type": "code",
   "execution_count": null,
   "id": "f1f4ebbf",
   "metadata": {},
   "outputs": [],
   "source": []
  },
  {
   "cell_type": "markdown",
   "id": "088aa0ee",
   "metadata": {},
   "source": [
    "# 3. 商品檔\n",
    "---\n",
    "\n",
    "### 股票商品檔"
   ]
  },
  {
   "cell_type": "code",
   "execution_count": 6,
   "id": "17153dd3",
   "metadata": {},
   "outputs": [
    {
     "data": {
      "text/plain": [
       "(OES, OTC, TSE)"
      ]
     },
     "execution_count": 6,
     "metadata": {},
     "output_type": "execute_result"
    }
   ],
   "source": [
    "api.Contracts.Stocks # OES興櫃, OTC上櫃, TSE上市"
   ]
  },
  {
   "cell_type": "code",
   "execution_count": 44,
   "id": "7bfaaa4b",
   "metadata": {},
   "outputs": [
    {
     "data": {
      "text/plain": [
       "Stock(exchange=<Exchange.TSE: 'TSE'>, code='2890', symbol='TSE2890', name='永豐金', category='17', unit=1000, limit_up=18.05, limit_down=14.85, reference=16.45, update_date='2022/11/11', day_trade=<DayTrade.Yes: 'Yes'>)"
      ]
     },
     "execution_count": 44,
     "metadata": {},
     "output_type": "execute_result"
    }
   ],
   "source": [
    "api.Contracts.Stocks[\"2890\"] # 2890 商品檔"
   ]
  },
  {
   "cell_type": "code",
   "execution_count": 45,
   "id": "10b35677",
   "metadata": {},
   "outputs": [
    {
     "data": {
      "text/plain": [
       "Stock(exchange=<Exchange.TSE: 'TSE'>, code='2330', symbol='TSE2330', name='台積電', category='24', unit=1000, limit_up=448.0, limit_down=367.0, reference=407.5, update_date='2022/11/11', margin_trading_balance=1724, short_selling_balance=246, day_trade=<DayTrade.Yes: 'Yes'>)"
      ]
     },
     "execution_count": 45,
     "metadata": {},
     "output_type": "execute_result"
    }
   ],
   "source": [
    "api.Contracts.Stocks[\"2330\"] # 2330 商品檔"
   ]
  },
  {
   "cell_type": "markdown",
   "id": "a5c136c9",
   "metadata": {},
   "source": [
    "### 期貨商品檔"
   ]
  },
  {
   "cell_type": "code",
   "execution_count": 16,
   "id": "27e39510",
   "metadata": {
    "scrolled": true
   },
   "outputs": [
    {
     "data": {
      "text/plain": [
       "TXF(TXF202303, TXF202309, TXF202211, TXF202306, TXF202301, TXF202212, TXFR1, TXFR2)"
      ]
     },
     "execution_count": 16,
     "metadata": {},
     "output_type": "execute_result"
    }
   ],
   "source": [
    "api.Contracts.Futures.TXF # 臺股期貨"
   ]
  },
  {
   "cell_type": "code",
   "execution_count": 17,
   "id": "beb4571d",
   "metadata": {},
   "outputs": [
    {
     "data": {
      "text/plain": [
       "Future(code='TXFF3', symbol='TXF202306', name='臺股期貨06', category='TXF', delivery_month='202306', delivery_date='2023/06/21', underlying_kind='I', unit=1, limit_up=14767.0, limit_down=12083.0, reference=13425.0, update_date='2022/11/10')"
      ]
     },
     "execution_count": 17,
     "metadata": {},
     "output_type": "execute_result"
    }
   ],
   "source": [
    "api.Contracts.Futures.TXF['TXF202306'] # 臺股期貨06，合約若到期，則商品檔為None"
   ]
  },
  {
   "cell_type": "code",
   "execution_count": 12,
   "id": "60847291",
   "metadata": {},
   "outputs": [
    {
     "data": {
      "text/plain": [
       "MXF(MXF202306, MXF202210, MXF202303, MXF202211, MXF202212, MXF202209)"
      ]
     },
     "execution_count": 12,
     "metadata": {},
     "output_type": "execute_result"
    }
   ],
   "source": [
    "api.Contracts.Futures.MXF # 小型臺指"
   ]
  },
  {
   "cell_type": "code",
   "execution_count": 13,
   "id": "a9c266f0",
   "metadata": {},
   "outputs": [
    {
     "data": {
      "text/plain": [
       "Future(code='MXFF3', symbol='MXF202306', name='小型臺指06', category='MXF', delivery_month='202306', delivery_date='2023/06/21', underlying_kind='I', unit=1, limit_up=16270.0, limit_down=13312.0, reference=14791.0, update_date='2022/08/25')"
      ]
     },
     "execution_count": 13,
     "metadata": {},
     "output_type": "execute_result"
    }
   ],
   "source": [
    "api.Contracts.Futures.MXF['MXF202306'] # 小型臺指06，合約若到期，則商品檔為None"
   ]
  },
  {
   "cell_type": "code",
   "execution_count": 15,
   "id": "62a92c89",
   "metadata": {},
   "outputs": [
    {
     "data": {
      "text/plain": [
       "Future(code='MX5H2', symbol='MX5202208', name='小型臺指08W5', category='MX5', delivery_month='202208', delivery_date='2022/08/31', underlying_kind='I', unit=1, limit_up=16578.0, limit_down=13564.0, reference=15071.0, update_date='2022/08/25')"
      ]
     },
     "execution_count": 15,
     "metadata": {},
     "output_type": "execute_result"
    }
   ],
   "source": [
    "api.Contracts.Futures.MX5[\"MX5202208\"] # 週結算小型臺指08W5，合約若到期，則商品檔為None"
   ]
  },
  {
   "cell_type": "markdown",
   "id": "63eacc0f",
   "metadata": {},
   "source": [
    "### 選擇權商品檔"
   ]
  },
  {
   "cell_type": "code",
   "execution_count": 16,
   "id": "23eab2a4",
   "metadata": {
    "scrolled": true
   },
   "outputs": [
    {
     "data": {
      "text/plain": [
       "TXO(TXO20220916200C, TXO20221214200C, TXO20221013000P, TXO20221218400C, TXO20220914300C, TXO20230319000C, TXO20221014600C, TXO20221214000C, TXO20220915700P, TXO20221212200C, TXO20221117300P, TXO20221113200P, TXO20221114500P, TXO20221116800P, TXO20220918100P, TXO20230312600C, TXO20220916900P, TXO20220913000P, TXO20230315200C, TXO20220918600P, TXO20221213600P, TXO20221220400C, TXO20221013600P, TXO20221014200C, TXO20230317200P, TXO20221214600C, TXO20221016300P, TXO20220912600P, TXO20221012900C, TXO20221214600P, TXO20221215800C, TXO20221113000C, TXO20220921600C, TXO20230319200P, TXO20220915200P, TXO20221016600C, TXO20221115900P, TXO20221212600P, TXO20221115900C, TXO20221115500C, TXO20221116700P, TXO20221015000P, TXO20220916400C, TXO20221114300C, TXO20221015400P, TXO20221013800C, TXO20221013800P, TXO20220914700P, TXO20220916900C, TXO20230316800P, TXO20230315000P, TXO20220916000P, TXO20221113500C, TXO20221221000P, TXO20221218800C, TXO20220919200P, TXO20221114900C, TXO20221216800P, TXO20221215600C, TXO20220913700P, TXO20221016800C, TXO20230311400C, TXO20221216400C, TXO20220913800C, TXO20221016500C, TXO20230316400P, TXO20221013000C, TXO20220922000C, TXO20221115600C, TXO20221017500P, TXO20221016300C, TXO20221015500P, TXO20221220200P, TXO20220918100C, TXO20221212400P, TXO20220915400C, TXO20221220800P, TXO20221114300P, TXO20220916000C, TXO20220918300C, TXO20220912400P, TXO20221117700C, TXO20220920400C, TXO20220915600P, TXO20220920000C, TXO20221113800P, TXO20220917200C, TXO20221214200P, TXO20220913700C, TXO20230315600C, TXO20221117200P, TXO20221116200P, TXO20220913200C, TXO20221016000P, TXO20220918800P, TXO20221013500P, TXO20221012400P, TXO20221016100P, TXO20221015200P, TXO20230316000C, TXO20221015800C, TXO20220914400C, TXO20221012600P, TXO20221214400P, TXO20221218200P, TXO20230316800C, TXO20221115200C, TXO20221013100C, TXO20220917100P, TXO20221216000P, TXO20221013400P, TXO20221219400C, TXO20220914900P, TXO20221016700P, TXO20220919200C, TXO20221212400C, TXO20221212000C, TXO20221212800C, TXO20220914800P, TXO20221016500P, TXO20221115300P, TXO20220922400P, TXO20221012700P, TXO20221215000C, TXO20220912000C, TXO20220918600C, TXO20230317000C, TXO20221114800P, TXO20220913500C, TXO20220921400P, TXO20230318800P, TXO20221215200P, TXO20230313800P, TXO20221014300C, TXO20220916100P, TXO20221017800P, TXO20230318200P, TXO20220918300P, TXO20220919600C, TXO20221213200P, TXO20220921800C, TXO20220916500P, TXO20221113700P, TXO20221211000P, TXO20230312400P, TXO20220915700C, TXO20230315400P, TXO20221117400P, TXO20221216200C, TXO20220914000P, TXO20221017400C, TXO20230314400P, TXO20221117800P, TXO20221117300C, TXO20230317000P, TXO20220918400C, TXO20221012400C, TXO20220915000C, TXO20221013700P, TXO20221221200C, TXO20230316400C, TXO20221216200P, TXO20221013500C, TXO20220912600C, TXO20220919000C, TXO20221115100P, TXO20230315400C, TXO20220914100C, TXO20220920000P, TXO20221014500P, TXO20220919600P, TXO20221112900P, TXO20220915800C, TXO20220912700C, TXO20221113500P, TXO20221216400P, TXO20221014500C, TXO20221114200C, TXO20221215200C, TXO20221114800C, TXO20230313400C, TXO20221015600P, TXO20230313000P, TXO20230316200C, TXO20220913900P, TXO20221116700C, TXO20220915200C, TXO20230314800C, TXO20220914100P, TXO20230311400P, TXO20230314000C, TXO20220913800P, TXO20220913900C, TXO20221016000C, TXO20221116500C, TXO20221217200C, TXO20220922000P, TXO20221213800P, TXO20230311600P, TXO20220913300C, TXO20221114600C, TXO20221114900P, TXO20221015100P, TXO20221214000P, TXO20220915600C, TXO20221211800P, TXO20230313800C, TXO20221017100P, TXO20220917600P, TXO20221014900P, TXO20221017800C, TXO20220914600C, TXO20221217800C, TXO20221014800C, TXO20221015000C, TXO20221219000C, TXO20230315000C, TXO20220917700P, TXO20230311800P, TXO20220915900C, TXO20221211800C, TXO20221017300C, TXO20221116100P, TXO20220915100C, TXO20220917200P, TXO20220918800C, TXO20220912800C, TXO20230316000P, TXO20221013200C, TXO20230317200C, TXO20221016600P, TXO20221215600P, TXO20220914300P, TXO20220917000C, TXO20220912800P, TXO20221012600C, TXO20220919800C, TXO20220912100C, TXO20221012800C, TXO20221218000P, TXO20221112800P, TXO20220916500C, TXO20230311200P, TXO20221220400P, TXO20221216000C, TXO20220914500C, TXO20220922200P, TXO20221218600C, TXO20220922200C, TXO20221015700P, TXO20220912500P, TXO20221117700P, TXO20221115000P, TXO20230319000P, TXO20230313000C, TXO20221114700C, TXO20220912100P, TXO20230312000C, TXO20230318000P, TXO20230315600P, TXO20221117800C, TXO20221211600P, TXO20220917500C, TXO20220915500C, TXO20230317600P, TXO20221113000P, TXO20220918000P, TXO20230316600P, TXO20221216800C, TXO20221116600P, TXO20221221400C, TXO20221115800P, TXO20220917900C, TXO20221013600C, TXO20221015100C, TXO20220920600P, TXO20221017400P, TXO20221214400C, TXO20230317800C, TXO20221015900P, TXO20230313600P, TXO20221113100C, TXO20221115100C, TXO20221215800P, TXO20221117600C, TXO20220921400C, TXO20221012900P, TXO20221014700P, TXO20230312000P, TXO20220919000P, TXO20220917300C, TXO20230314200C, TXO20220919800P, TXO20220915000P, TXO20221015200C, TXO20221217200P, TXO20221115200P, TXO20221217600P, TXO20221216600C, TXO20221012500P, TXO20220915900P, TXO20221013700C, TXO20221116900C, TXO20220921000P, TXO20220917400C, TXO20221113300P, TXO20221116000C, TXO20220916400P, TXO20221117400C, TXO20221115300C, TXO20221016700C, TXO20221221400P, TXO20230318400P, TXO20221113600C, TXO20221220800C, TXO20221017300P, TXO20220912300C, TXO20220914200P, TXO20221117000C, TXO20220916200P, TXO20221014900C, TXO20230317400C, TXO20221014100C, TXO20221215400P, TXO20220914500P, TXO20220919400C, TXO20221220000P, TXO20221013400C, TXO20220917800P, TXO20221211200C, TXO20230312400C, TXO20221017600C, TXO20220914700C, TXO20220913500P, TXO20220918400P, TXO20220918200C, TXO20220917700C, TXO20221116200C, TXO20230315800C, TXO20220916600C, TXO20220913600C, TXO20221219200C, TXO20230313200C, TXO20220914600P, TXO20221115500P, TXO20220911900P, TXO20220920800P, TXO20221112900C, TXO20220921600P, TXO20221017500C, TXO20230318600C, TXO20221016200C, TXO20220918200P, TXO20220919400P, TXO20221014700C, TXO20230314600P, TXO20230319200C, TXO20221012700C, TXO20221212600C, TXO20220917100C, TXO20221219800C, TXO20221016900P, TXO20230314000P, TXO20221212800P, TXO20220911800C, TXO20221116500P, TXO20220916800P, TXO20221213200C, TXO20220913400P, TXO20230317800P, TXO20221015300P, TXO20221013200P, TXO20220914800C, TXO20220912000P, TXO20221016100C, TXO20220912900P, TXO20221015600C, TXO20221116300C, TXO20230316200P, TXO20221218000C, TXO20221113400P, TXO20220922400C, TXO20221213600C, TXO20220913100P, TXO20221114400C, TXO20221221200P, TXO20221215400C, TXO20220921800P, TXO20221114100C, TXO20221017200P, TXO20221015800P, TXO20221012500C, TXO20220914400P, TXO20221220600P, TXO20221114000C, TXO20221013900C, TXO20220920400P, TXO20221217400C, TXO20221117500C, TXO20221217000P, TXO20220911900C, TXO20220921200P, TXO20220912400C, TXO20221114700P, TXO20221219600P, TXO20221219200P, TXO20221213000P, TXO20221220600C, TXO20230312600P, TXO20230318200C, TXO20221211200P, TXO20221113800C, TXO20221014100P, TXO20220916800C, TXO20221215000P, TXO20221214800C, TXO20220920800C, TXO20221014600P, TXO20221013300P, TXO20221211000C, TXO20230311200C, TXO20220913000C, TXO20221114200P, TXO20221213000C, TXO20221116100C, TXO20221211400C, TXO20221213800C, TXO20221217600C, TXO20230314400C, TXO20221218400P, TXO20221117000P, TXO20221213400P, TXO20221014800P, TXO20220917900P, TXO20221113300C, TXO20221117500P, TXO20230318000C, TXO20221017000P, TXO20221016900C, TXO20221115400P, TXO20230317400P, TXO20221117200C, TXO20230312800C, TXO20221015400C, TXO20221115400C, TXO20221116900P, TXO20221014300P, TXO20230312200P, TXO20221013100P, TXO20221017000C, TXO20221014400C, TXO20221112800C, TXO20230311600C, TXO20220916700P, TXO20221211400P, TXO20221015300C, TXO20220916300P, TXO20221017700P, TXO20221117100C, TXO20220920600C, TXO20221217400P, TXO20230311000C, TXO20221219800P, TXO20230313400P, TXO20230314600C, TXO20221219600C, TXO20221114000P, TXO20221017700C, TXO20221219400P, TXO20220914200C, TXO20220912200P, TXO20221113700C, TXO20220913200P, TXO20221014200P, TXO20230313200P, TXO20230317600C, TXO20221212000P, TXO20220916600P, TXO20221012800P, TXO20220911800P, TXO20221016800P, TXO20221116300P, TXO20221214800P, TXO20230313600C, TXO20221015700C, TXO20220915300C, TXO20221116400P, TXO20230311000P, TXO20220913100C, TXO20221016200P, TXO20220917600C, TXO20220918000C, TXO20220912200C, TXO20221218800P, TXO20220914000C, TXO20220915300P, TXO20230312800P, TXO20221114100P, TXO20221221000C, TXO20220920200P, TXO20221013300C, TXO20221113900P, TXO20221117100P, TXO20220915100P, TXO20221016400P, TXO20220917400P, TXO20221114500C, TXO20230315800P, TXO20220916100C, TXO20221015500C, TXO20221115000C, TXO20221013900P, TXO20221220200C, TXO20221211600C, TXO20220913600P, TXO20220917800C, TXO20230314200P, TXO20221116600C, TXO20220913400C, TXO20221115600P, TXO20221113900C, TXO20220914900C, TXO20220920200C, TXO20221017100C, TXO20221114600P, TXO20220915400P, TXO20220915800P, TXO20221017200C, TXO20221014000P, TXO20221212200P, TXO20221014000C, TXO20221113400C, TXO20230318600P, TXO20220913300P, TXO20221218200C, TXO20221017600P, TXO20230312200C, TXO20221217800P, TXO20221114400P, TXO20221113100P, TXO20221117600P, TXO20221113200C, TXO20220916700C, TXO20221115700C, TXO20221217000C, TXO20230316600C, TXO20221218600P, TXO20221115800C, TXO20221116800C, TXO20221115700P, TXO20220912500C, TXO20221015900C, TXO20221220000C, TXO20221014400P, TXO20230311800C, TXO20230314800P, TXO20220916300C, TXO20220917000P, TXO20221113600P, TXO20221016400C, TXO20220915500P, TXO20220921200C, TXO20221213400C, TXO20221116000P, TXO20220917500P, TXO20230318400C, TXO20221216600P, TXO20220917300P, TXO20230315200P, TXO20220912900C, TXO20220921000C, TXO20220912300P, TXO20221219000P, TXO20221116400C, TXO20230318800C, TXO20220912700P)"
      ]
     },
     "execution_count": 16,
     "metadata": {},
     "output_type": "execute_result"
    }
   ],
   "source": [
    "api.Contracts.Options.TXO # 臺指選擇權"
   ]
  },
  {
   "cell_type": "code",
   "execution_count": 16,
   "id": "093abc57",
   "metadata": {
    "scrolled": true
   },
   "outputs": [
    {
     "data": {
      "text/plain": [
       "Option(code='TXO16200I2', symbol='TXO20220916200C', name='臺指選擇權09月 16200C', category='TXO', delivery_month='202209', delivery_date='2022/09/21', strike_price=16200, option_right=<OptionRight.Call: 'C'>, underlying_kind='I', unit=1, limit_up=1510.0, limit_down=0.1, reference=10.0, update_date='2022/08/24')"
      ]
     },
     "execution_count": 16,
     "metadata": {},
     "output_type": "execute_result"
    }
   ],
   "source": [
    "api.Contracts.Options.TXO[\"TXO20220916200C\"] # 臺指選擇權09月 16200C，合約若到期，則商品檔為None"
   ]
  },
  {
   "cell_type": "code",
   "execution_count": 17,
   "id": "b0975dc0",
   "metadata": {},
   "outputs": [
    {
     "data": {
      "text/plain": [
       "Option(code='TXO13200W2', symbol='TXO20221113200P', name='臺指選擇權11月 13200P', category='TXO', delivery_month='202211', delivery_date='2022/11/16', strike_price=13200, option_right=<OptionRight.Put: 'P'>, underlying_kind='I', unit=1, limit_up=1630.0, limit_down=0.1, reference=122.0, update_date='2022/08/24')"
      ]
     },
     "execution_count": 17,
     "metadata": {},
     "output_type": "execute_result"
    }
   ],
   "source": [
    "api.Contracts.Options.TXO[\"TXO20221113200P\"] # 臺指選擇權11月 13200P，合約若到期，則商品檔為None"
   ]
  },
  {
   "cell_type": "code",
   "execution_count": 18,
   "id": "a83ac312",
   "metadata": {
    "scrolled": true
   },
   "outputs": [
    {
     "data": {
      "text/plain": [
       "TX4(TX420220814900C, TX420220816200P, TX420220816900P, TX420220815850C, TX420220815000C, TX420220814400C, TX420220814200C, TX420220814200P, TX420220815500P, TX420220815550C, TX420220815200C, TX420220814650P, TX420220815650P, TX420220816400C, TX420220814300C, TX420220814850P, TX420220815250C, TX420220816400P, TX420220814100C, TX420220817100P, TX420220816500P, TX420220816000P, TX420220814850C, TX420220815600C, TX420220814900P, TX420220815150P, TX420220815300P, TX420220815750P, TX420220813600P, TX420220815900P, TX420220814000P, TX420220814300P, TX420220815300C, TX420220814750P, TX420220814950C, TX420220816500C, TX420220815400P, TX420220814650C, TX420220814100P, TX420220814500P, TX420220815750C, TX420220815050P, TX420220817000P, TX420220816600C, TX420220814400P, TX420220815700C, TX420220815450C, TX420220815800C, TX420220815700P, TX420220815100P, TX420220816800P, TX420220816800C, TX420220813900P, TX420220816600P, TX420220815600P, TX420220815200P, TX420220816100P, TX420220814950P, TX420220814700C, TX420220816900C, TX420220815400C, TX420220813600C, TX420220814800C, TX420220814000C, TX420220814600P, TX420220815650C, TX420220815450P, TX420220813700P, TX420220815550P, TX420220815350C, TX420220814600C, TX420220816700P, TX420220815150C, TX420220815250P, TX420220817100C, TX420220814800P, TX420220813700C, TX420220813500P, TX420220815350P, TX420220815100C, TX420220816700C, TX420220815900C, TX420220817000C, TX420220816000C, TX420220815050C, TX420220816200C, TX420220813800C, TX420220815800P, TX420220813500C, TX420220815500C, TX420220816300C, TX420220813900C, TX420220815850P, TX420220814700P, TX420220815000P, TX420220814750C, TX420220816100C, TX420220813800P, TX420220816300P, TX420220814500C)"
      ]
     },
     "execution_count": 18,
     "metadata": {},
     "output_type": "execute_result"
    }
   ],
   "source": [
    "api.Contracts.Options.TX4 # 臺指(週)選擇權"
   ]
  },
  {
   "cell_type": "code",
   "execution_count": 19,
   "id": "a2d5c892",
   "metadata": {
    "scrolled": true
   },
   "outputs": [
    {
     "data": {
      "text/plain": [
       "Option(code='TX416200T2', symbol='TX420220816200P', name='臺指選擇權08W4月 16200P', category='TX4', delivery_month='202208', delivery_date='2022/08/24', strike_price=16200, option_right=<OptionRight.Put: 'P'>, underlying_kind='I', unit=1, limit_up=2620.0, limit_down=0.1, reference=1120.0, update_date='2022/08/24')"
      ]
     },
     "execution_count": 19,
     "metadata": {},
     "output_type": "execute_result"
    }
   ],
   "source": [
    "api.Contracts.Options.TX4[\"TX420220816200P\"] # 臺指選擇權08W4月 16200P，合約若到期，則商品檔為None"
   ]
  },
  {
   "cell_type": "code",
   "execution_count": null,
   "id": "7c75e46b",
   "metadata": {},
   "outputs": [],
   "source": []
  },
  {
   "cell_type": "markdown",
   "id": "22c961c6",
   "metadata": {},
   "source": [
    "# 4. 證券下單\n",
    "---\n",
    "### 選擇商品檔"
   ]
  },
  {
   "cell_type": "code",
   "execution_count": 22,
   "id": "d8ad2093",
   "metadata": {},
   "outputs": [
    {
     "data": {
      "text/plain": [
       "Stock(exchange=<Exchange.TSE: 'TSE'>, code='2890', symbol='TSE2890', name='永豐金', category='17', unit=1000, limit_up=18.8, limit_down=15.4, reference=17.1, update_date='2022/08/25', day_trade=<DayTrade.Yes: 'Yes'>)"
      ]
     },
     "execution_count": 22,
     "metadata": {},
     "output_type": "execute_result"
    }
   ],
   "source": [
    "contract = api.Contracts.Stocks[\"2890\"] # 請更改商品檔\n",
    "contract"
   ]
  },
  {
   "cell_type": "markdown",
   "id": "cba423c1",
   "metadata": {},
   "source": [
    "### 設定委託內容"
   ]
  },
  {
   "cell_type": "code",
   "execution_count": 23,
   "id": "30dabe00",
   "metadata": {},
   "outputs": [
    {
     "data": {
      "text/plain": [
       "Order(action=<Action.Buy: 'Buy'>, price=18, quantity=1, account=StockAccount(person_id='QBCCAIGJBJ', broker_id='9A95', account_id='0504350', signed=True, username='PAPIUSER01'), price_type=<StockPriceType.LMT: 'LMT'>, order_type=<FuturesOrderType.ROD: 'ROD'>)"
      ]
     },
     "execution_count": 23,
     "metadata": {},
     "output_type": "execute_result"
    }
   ],
   "source": [
    "# 請更改委託內容\n",
    "order = api.Order(\n",
    "    action=sj.constant.Action.Buy,                      # action (買賣別): Buy, Sell \n",
    "    price=18,                                           # price (價格)\n",
    "    quantity=1,                                         # quantity (委託數量)\n",
    "    price_type=sj.constant.TFTStockPriceType.LMT,       # price_type (委託價格類別): LMT(限價), MKT(市價), MKP(範圍市價)\n",
    "    order_type=sj.constant.TFTOrderType.ROD,            # order_type (委託條件): IOC, ROD, FOK\n",
    "    order_lot=sj.constant.TFTStockOrderLot.Common,      # order_lot (倉別): Common(整股), Fixing(定盤), Odd(盤後零股), \n",
    "                                                        #                  IntradayOdd (盤中零股)\n",
    "    account=api.stock_account                           # account (下單帳號)\n",
    ")\n",
    "order"
   ]
  },
  {
   "cell_type": "markdown",
   "id": "a3ead8dc",
   "metadata": {},
   "source": [
    "### 執行委託"
   ]
  },
  {
   "cell_type": "code",
   "execution_count": 32,
   "id": "269e2c9e",
   "metadata": {},
   "outputs": [
    {
     "name": "stdout",
     "output_type": "stream",
     "text": [
      "OrderState.TFTOrder {'operation': {'op_type': 'New', 'op_code': '88', 'op_msg': '價格超過漲跌幅範圍'}, 'order': {'id': '5ea073e3', 'seqno': '258924', 'ordno': 'W0000', 'account': {'account_type': 'S', 'person_id': '', 'broker_id': '9A95', 'account_id': '0504350', 'signed': True}, 'action': 'Buy', 'price': 18.0, 'quantity': 1, 'order_type': 'ROD', 'price_type': 'LMT', 'order_cond': 'Cash', 'order_lot': 'Common', 'custom_field': ''}, 'status': {'id': '5ea073e3', 'exchange_ts': 1661318105, 'modified_price': 0.0, 'cancel_quantity': 0, 'order_quantity': 0, 'web_id': '137'}, 'contract': {'security_type': 'STK', 'exchange': 'TSE', 'code': '2890', 'symbol': '', 'name': '', 'currency': 'TWD'}}\n"
     ]
    }
   ],
   "source": [
    "trade = api.place_order(contract, order, timeout=0)"
   ]
  },
  {
   "cell_type": "code",
   "execution_count": 33,
   "id": "83fcf093",
   "metadata": {},
   "outputs": [
    {
     "data": {
      "text/plain": [
       "Trade(contract=Stock(exchange=<Exchange.TSE: 'TSE'>, code='2890', symbol='TSE2890', name='永豐金', category='17', unit=1000, limit_up=18.95, limit_down=15.55, reference=17.25, update_date='2022/08/24', day_trade=<DayTrade.Yes: 'Yes'>), order=Order(action=<Action.Buy: 'Buy'>, price=18, quantity=1, account=StockAccount(person_id='QBCCAIGJBJ', broker_id='9A95', account_id='0504350', signed=True, username='PAPIUSER01'), price_type=<StockPriceType.LMT: 'LMT'>, order_type=<FuturesOrderType.ROD: 'ROD'>), status=OrderStatus(status=<Status.Inactive: 'Inactive'>))"
      ]
     },
     "execution_count": 33,
     "metadata": {},
     "output_type": "execute_result"
    }
   ],
   "source": [
    "trade"
   ]
  },
  {
   "cell_type": "markdown",
   "id": "1dfb4364",
   "metadata": {},
   "source": [
    "### 常見問題\n",
    "1. 執行委託後，無委託回報。此為正常現象，模擬環境委託回報非開發團隊可控制因素。\n",
    "2. 委託失敗。此為正常現象，模擬環境委託狀態非開發團隊可控制因素。\n",
    "3. 只要trade物件不為None，下單測試即完成，委託狀態不影響測試結果。\n",
    "4. timeout=0為非同步下單，**此設定為確保留存API測試紀錄**。一般情況，使用者可自由設定。"
   ]
  },
  {
   "cell_type": "code",
   "execution_count": null,
   "id": "1f61dbd8",
   "metadata": {},
   "outputs": [],
   "source": []
  },
  {
   "cell_type": "markdown",
   "id": "3690443a",
   "metadata": {},
   "source": [
    "# 5. 期貨下單\n",
    "---"
   ]
  },
  {
   "cell_type": "markdown",
   "id": "5aec653d",
   "metadata": {},
   "source": [
    "### 選擇商品檔"
   ]
  },
  {
   "cell_type": "code",
   "execution_count": 34,
   "id": "29d120a6",
   "metadata": {},
   "outputs": [
    {
     "data": {
      "text/plain": [
       "Future(code='TXFF3', symbol='TXF202306', name='臺股期貨06', category='TXF', delivery_month='202306', delivery_date='2023/06/21', underlying_kind='I', unit=1, limit_up=16242.0, limit_down=13290.0, reference=14766.0, update_date='2022/08/24')"
      ]
     },
     "execution_count": 34,
     "metadata": {},
     "output_type": "execute_result"
    }
   ],
   "source": [
    "contract = api.Contracts.Futures.TXF[\"TXF202306\"] # 請更改商品檔，合約若已到期，則商品檔為None\n",
    "contract"
   ]
  },
  {
   "cell_type": "markdown",
   "id": "fc264092",
   "metadata": {},
   "source": [
    "### 設定委託內容"
   ]
  },
  {
   "cell_type": "code",
   "execution_count": 9,
   "id": "757e7ac9",
   "metadata": {},
   "outputs": [
    {
     "data": {
      "text/plain": [
       "Order(action=<Action.Buy: 'Buy'>, price=15000, quantity=1, account=FutureAccount(person_id='QBCCAIGJBJ', broker_id='F002000', account_id='9100020', signed=True, username='PAPIUSER01'), price_type=<StockPriceType.LMT: 'LMT'>, order_type=<FuturesOrderType.ROD: 'ROD'>)"
      ]
     },
     "execution_count": 9,
     "metadata": {},
     "output_type": "execute_result"
    }
   ],
   "source": [
    "# 請更改委託內容\n",
    "order = api.Order(\n",
    "    action=sj.constant.Action.Buy,                      # action (買賣別): Buy, Sell \n",
    "    price=15000,                                        # price (價格)\n",
    "    quantity=1,                                         # quantity (委託數量)\n",
    "    price_type=sj.constant.FuturesPriceType.LMT,        # price_type (委託價格類別): LMT(限價), MKT(市價), MKP(範圍市價)\n",
    "    order_type=sj.constant.FuturesOrderType.ROD,        # order_type (委託條件): IOC, ROD, FOK\n",
    "    octype=sj.constant.FuturesOCType.Auto,              # octype (倉別 ): Auto(自動), New(新倉), Cover(平倉), DayTrade(當沖)\n",
    "    account=api.futopt_account                          # account (下單帳號)\n",
    ")\n",
    "order"
   ]
  },
  {
   "cell_type": "markdown",
   "id": "ae4bea7c",
   "metadata": {},
   "source": [
    "### 執行委託"
   ]
  },
  {
   "cell_type": "code",
   "execution_count": 36,
   "id": "59d7edc6",
   "metadata": {
    "scrolled": true
   },
   "outputs": [
    {
     "name": "stdout",
     "output_type": "stream",
     "text": [
      "OrderState.FOrder {'operation': {'op_type': 'New', 'op_code': '00', 'op_msg': ''}, 'order': {'id': '7aed3d28', 'seqno': '258227', 'ordno': 'ky00m', 'account': {'account_type': 'F', 'person_id': '', 'broker_id': 'F002000', 'account_id': '9100020', 'signed': True}, 'action': 'Buy', 'price': 15000.0, 'quantity': 1, 'order_type': 'ROD', 'price_type': 'LMT', 'market_type': 'Day', 'oc_type': 'New', 'subaccount': '', 'combo': False}, 'status': {'id': '7aed3d28', 'exchange_ts': 1661318120, 'modified_price': 0.0, 'cancel_quantity': 0, 'order_quantity': 1, 'web_id': 'Z'}, 'contract': {'security_type': 'FUT', 'code': 'TXF', 'exchange': 'TIM', 'delivery_month': '202306', 'delivery_date': '', 'strike_price': 0.0, 'option_right': 'Future'}}\n"
     ]
    }
   ],
   "source": [
    "trade = api.place_order(contract, order, timeout=0)"
   ]
  },
  {
   "cell_type": "code",
   "execution_count": 37,
   "id": "1aeebea0",
   "metadata": {},
   "outputs": [
    {
     "data": {
      "text/plain": [
       "Trade(contract=Future(code='TXFF3', symbol='TXF202306', name='臺股期貨06', category='TXF', delivery_month='202306', delivery_date='2023/06/21', underlying_kind='I', unit=1, limit_up=16242.0, limit_down=13290.0, reference=14766.0, update_date='2022/08/24'), order=Order(action=<Action.Buy: 'Buy'>, price=15000, quantity=1, id='7aed3d28', seqno='258227', ordno='ky00m', account=Account(account_type=<AccountType.Future: 'F'>, person_id='QBCCAIGJBJ', broker_id='F002000', account_id='9100020', signed=True), price_type=<StockPriceType.LMT: 'LMT'>, order_type=<FuturesOrderType.ROD: 'ROD'>), status=OrderStatus(id='7aed3d28', status=<Status.PendingSubmit: 'PendingSubmit'>, status_code='    ', order_datetime=datetime.datetime(2022, 8, 24, 13, 15, 20), deals=[]))"
      ]
     },
     "execution_count": 37,
     "metadata": {},
     "output_type": "execute_result"
    }
   ],
   "source": [
    "trade"
   ]
  },
  {
   "cell_type": "markdown",
   "id": "05fe3187",
   "metadata": {},
   "source": [
    "### 常見問題\n",
    "1. 執行委託後，無委託回報。此為正常現象，模擬環境委託回報非開發團隊可控制因素。\n",
    "2. 委託失敗。此為正常現象，模擬環境委託狀態非開發團隊可控制因素。\n",
    "3. 只要trade物件不為None，下單測試即完成，委託狀態不影響測試結果。\n",
    "4. timeout=0為非同步下單，**此設定為確保留存API測試紀錄**。一般情況，使用者可自由設定。"
   ]
  },
  {
   "cell_type": "code",
   "execution_count": 18,
   "id": "4028e3d8",
   "metadata": {},
   "outputs": [
    {
     "name": "stdout",
     "output_type": "stream",
     "text": [
      "Response Code: 200 | Event Code: 16 | Info: MKT/*/TSE/2330 | Event: Subscribe or Unsubscribe ok\n",
      "Response Code: 0 | Event Code: 12 | Info: solClient.c:12219                    (7fc8c97fa700) Session '(c2,s1)_sinopac' keep-alive on tcp_TxRx detected session down, client name 'PYAPI/M122602581/1110/130946/507688/1.160.161.5', VPN name 'sinopac', peer address 'IP 203.66.91.161:80', connection ' | Event: Session reconnecting\n",
      "Response Code: 0 | Event Code: 13 | Info: host '203.66.91.161:80', IP 203.66.91.161:80 (host 1 of 1) (host connection attempt 1 of 1) (total reconnection attempt 3 of 10) | Event: Session reconnected\n",
      "MKT/idcdmzpcr01/TSE/2330 {'AmountSum': [0.0], 'Close': [438.0], 'Date': '2022/11/11', 'Simtrade': 1, 'TickType': [1], 'Time': '08:45:45.769420', 'VolSum': [0], 'Volume': [3124]}\n",
      "MKT/idcdmzpcr01/TSE/2330 {'AmountSum': [0.0], 'Close': [438.0], 'Date': '2022/11/11', 'Simtrade': 1, 'TickType': [1], 'Time': '08:45:50.776000', 'VolSum': [0], 'Volume': [3125]}\n",
      "MKT/idcdmzpcr01/TSE/2330 {'AmountSum': [0.0], 'Close': [438.0], 'Date': '2022/11/11', 'Simtrade': 1, 'TickType': [1], 'Time': '08:45:55.785182', 'VolSum': [0], 'Volume': [3126]}\n",
      "MKT/idcdmzpcr01/TSE/2330 {'AmountSum': [0.0], 'Close': [438.0], 'Date': '2022/11/11', 'Simtrade': 1, 'TickType': [1], 'Time': '08:46:00.795129', 'VolSum': [0], 'Volume': [3247]}\n",
      "MKT/idcdmzpcr01/TSE/2330 {'AmountSum': [0.0], 'Close': [439.0], 'Date': '2022/11/11', 'Simtrade': 1, 'TickType': [1], 'Time': '08:46:05.805975', 'VolSum': [0], 'Volume': [3270]}\n",
      "MKT/idcdmzpcr01/TSE/2330 {'AmountSum': [0.0], 'Close': [439.0], 'Date': '2022/11/11', 'Simtrade': 1, 'TickType': [1], 'Time': '08:46:10.817453', 'VolSum': [0], 'Volume': [3304]}\n",
      "MKT/idcdmzpcr01/TSE/2330 {'AmountSum': [0.0], 'Close': [439.0], 'Date': '2022/11/11', 'Simtrade': 1, 'TickType': [1], 'Time': '08:46:15.825282', 'VolSum': [0], 'Volume': [3317]}\n",
      "MKT/idcdmzpcr01/TSE/2330 {'AmountSum': [0.0], 'Close': [439.0], 'Date': '2022/11/11', 'Simtrade': 1, 'TickType': [1], 'Time': '08:46:20.838561', 'VolSum': [0], 'Volume': [3322]}\n",
      "MKT/idcdmzpcr01/TSE/2330 {'AmountSum': [0.0], 'Close': [439.0], 'Date': '2022/11/11', 'Simtrade': 1, 'TickType': [1], 'Time': '08:46:25.849074', 'VolSum': [0], 'Volume': [3330]}\n",
      "MKT/idcdmzpcr01/TSE/2330 {'AmountSum': [0.0], 'Close': [439.0], 'Date': '2022/11/11', 'Simtrade': 1, 'TickType': [1], 'Time': '08:46:30.862749', 'VolSum': [0], 'Volume': [3369]}\n",
      "MKT/idcdmzpcr01/TSE/2330 {'AmountSum': [0.0], 'Close': [439.5], 'Date': '2022/11/11', 'Simtrade': 1, 'TickType': [1], 'Time': '08:46:35.877673', 'VolSum': [0], 'Volume': [3373]}\n",
      "MKT/idcdmzpcr01/TSE/2330 {'AmountSum': [0.0], 'Close': [439.5], 'Date': '2022/11/11', 'Simtrade': 1, 'TickType': [1], 'Time': '08:46:40.890850', 'VolSum': [0], 'Volume': [3373]}\n",
      "MKT/idcdmzpcr01/TSE/2330 {'AmountSum': [0.0], 'Close': [439.5], 'Date': '2022/11/11', 'Simtrade': 1, 'TickType': [1], 'Time': '08:46:45.905533', 'VolSum': [0], 'Volume': [3373]}\n",
      "MKT/idcdmzpcr01/TSE/2330 {'AmountSum': [0.0], 'Close': [439.5], 'Date': '2022/11/11', 'Simtrade': 1, 'TickType': [1], 'Time': '08:46:50.919578', 'VolSum': [0], 'Volume': [3375]}\n",
      "MKT/idcdmzpcr01/TSE/2330 {'AmountSum': [0.0], 'Close': [439.0], 'Date': '2022/11/11', 'Simtrade': 1, 'TickType': [2], 'Time': '08:46:55.933019', 'VolSum': [0], 'Volume': [3380]}\n",
      "MKT/idcdmzpcr01/TSE/2330 {'AmountSum': [0.0], 'Close': [439.0], 'Date': '2022/11/11', 'Simtrade': 1, 'TickType': [1], 'Time': '08:47:00.947758', 'VolSum': [0], 'Volume': [3381]}\n",
      "MKT/idcdmzpcr01/TSE/2330 {'AmountSum': [0.0], 'Close': [439.0], 'Date': '2022/11/11', 'Simtrade': 1, 'TickType': [1], 'Time': '08:47:05.961891', 'VolSum': [0], 'Volume': [3339]}\n",
      "MKT/idcdmzpcr01/TSE/2330 {'AmountSum': [0.0], 'Close': [439.0], 'Date': '2022/11/11', 'Simtrade': 1, 'TickType': [1], 'Time': '08:47:10.974305', 'VolSum': [0], 'Volume': [3340]}\n",
      "MKT/idcdmzpcr01/TSE/2330 {'AmountSum': [0.0], 'Close': [439.0], 'Date': '2022/11/11', 'Simtrade': 1, 'TickType': [1], 'Time': '08:47:15.988064', 'VolSum': [0], 'Volume': [3338]}\n",
      "MKT/idcdmzpcr01/TSE/2330 {'AmountSum': [0.0], 'Close': [439.0], 'Date': '2022/11/11', 'Simtrade': 1, 'TickType': [1], 'Time': '08:47:21.001264', 'VolSum': [0], 'Volume': [3341]}\n",
      "MKT/idcdmzpcr01/TSE/2330 {'AmountSum': [0.0], 'Close': [439.0], 'Date': '2022/11/11', 'Simtrade': 1, 'TickType': [1], 'Time': '08:47:26.014376', 'VolSum': [0], 'Volume': [3343]}\n",
      "MKT/idcdmzpcr01/TSE/2330 {'AmountSum': [0.0], 'Close': [439.0], 'Date': '2022/11/11', 'Simtrade': 1, 'TickType': [1], 'Time': '08:47:31.028536', 'VolSum': [0], 'Volume': [3343]}\n",
      "MKT/idcdmzpcr01/TSE/2330 {'AmountSum': [0.0], 'Close': [439.0], 'Date': '2022/11/11', 'Simtrade': 1, 'TickType': [1], 'Time': '08:47:36.043735', 'VolSum': [0], 'Volume': [3347]}\n",
      "MKT/idcdmzpcr01/TSE/2330 {'AmountSum': [0.0], 'Close': [439.0], 'Date': '2022/11/11', 'Simtrade': 1, 'TickType': [1], 'Time': '08:47:41.058919', 'VolSum': [0], 'Volume': [3348]}\n",
      "MKT/idcdmzpcr01/TSE/2330 {'AmountSum': [0.0], 'Close': [439.0], 'Date': '2022/11/11', 'Simtrade': 1, 'TickType': [1], 'Time': '08:47:46.072059', 'VolSum': [0], 'Volume': [3350]}\n",
      "MKT/idcdmzpcr01/TSE/2330 {'AmountSum': [0.0], 'Close': [439.0], 'Date': '2022/11/11', 'Simtrade': 1, 'TickType': [1], 'Time': '08:47:51.084185', 'VolSum': [0], 'Volume': [3349]}\n",
      "MKT/idcdmzpcr01/TSE/2330 {'AmountSum': [0.0], 'Close': [439.0], 'Date': '2022/11/11', 'Simtrade': 1, 'TickType': [1], 'Time': '08:47:56.098354', 'VolSum': [0], 'Volume': [3349]}\n",
      "MKT/idcdmzpcr01/TSE/2330 {'AmountSum': [0.0], 'Close': [439.0], 'Date': '2022/11/11', 'Simtrade': 1, 'TickType': [1], 'Time': '08:48:01.111491', 'VolSum': [0], 'Volume': [3447]}\n",
      "MKT/idcdmzpcr01/TSE/2330 {'AmountSum': [0.0], 'Close': [439.0], 'Date': '2022/11/11', 'Simtrade': 1, 'TickType': [1], 'Time': '08:48:06.123614', 'VolSum': [0], 'Volume': [3464]}\n",
      "MKT/idcdmzpcr01/TSE/2330 {'AmountSum': [0.0], 'Close': [439.0], 'Date': '2022/11/11', 'Simtrade': 1, 'TickType': [1], 'Time': '08:48:11.136758', 'VolSum': [0], 'Volume': [3466]}\n",
      "MKT/idcdmzpcr01/TSE/2330 {'AmountSum': [0.0], 'Close': [439.0], 'Date': '2022/11/11', 'Simtrade': 1, 'TickType': [1], 'Time': '08:48:16.149905', 'VolSum': [0], 'Volume': [3478]}\n",
      "MKT/idcdmzpcr01/TSE/2330 {'AmountSum': [0.0], 'Close': [439.0], 'Date': '2022/11/11', 'Simtrade': 1, 'TickType': [1], 'Time': '08:48:21.162026', 'VolSum': [0], 'Volume': [3481]}\n",
      "MKT/idcdmzpcr01/TSE/2330 {'AmountSum': [0.0], 'Close': [439.0], 'Date': '2022/11/11', 'Simtrade': 1, 'TickType': [1], 'Time': '08:48:26.174150', 'VolSum': [0], 'Volume': [3483]}\n",
      "MKT/idcdmzpcr01/TSE/2330 {'AmountSum': [0.0], 'Close': [439.0], 'Date': '2022/11/11', 'Simtrade': 1, 'TickType': [1], 'Time': '08:48:31.187303', 'VolSum': [0], 'Volume': [3481]}\n",
      "MKT/idcdmzpcr01/TSE/2330 {'AmountSum': [0.0], 'Close': [439.0], 'Date': '2022/11/11', 'Simtrade': 1, 'TickType': [1], 'Time': '08:48:36.200443', 'VolSum': [0], 'Volume': [3483]}\n",
      "MKT/idcdmzpcr01/TSE/2330 {'AmountSum': [0.0], 'Close': [439.0], 'Date': '2022/11/11', 'Simtrade': 1, 'TickType': [1], 'Time': '08:48:41.214608', 'VolSum': [0], 'Volume': [3483]}\n",
      "MKT/idcdmzpcr01/TSE/2330 {'AmountSum': [0.0], 'Close': [439.5], 'Date': '2022/11/11', 'Simtrade': 1, 'TickType': [1], 'Time': '08:48:46.228784', 'VolSum': [0], 'Volume': [3564]}\n",
      "MKT/idcdmzpcr01/TSE/2330 {'AmountSum': [0.0], 'Close': [439.0], 'Date': '2022/11/11', 'Simtrade': 1, 'TickType': [2], 'Time': '08:48:51.241931', 'VolSum': [0], 'Volume': [3587]}\n",
      "MKT/idcdmzpcr01/TSE/2330 {'AmountSum': [0.0], 'Close': [439.0], 'Date': '2022/11/11', 'Simtrade': 1, 'TickType': [1], 'Time': '08:48:56.254054', 'VolSum': [0], 'Volume': [3592]}\n",
      "MKT/idcdmzpcr01/TSE/2330 {'AmountSum': [0.0], 'Close': [439.0], 'Date': '2022/11/11', 'Simtrade': 1, 'TickType': [1], 'Time': '08:49:01.268232', 'VolSum': [0], 'Volume': [3595]}\n",
      "MKT/idcdmzpcr01/TSE/2330 {'AmountSum': [0.0], 'Close': [440.0], 'Date': '2022/11/11', 'Simtrade': 1, 'TickType': [1], 'Time': '08:49:06.283418', 'VolSum': [0], 'Volume': [3827]}\n",
      "MKT/idcdmzpcr01/TSE/2330 {'AmountSum': [0.0], 'Close': [445.0], 'Date': '2022/11/11', 'Simtrade': 1, 'TickType': [1], 'Time': '08:49:11.296561', 'VolSum': [0], 'Volume': [3794]}\n",
      "MKT/idcdmzpcr01/TSE/2330 {'AmountSum': [0.0], 'Close': [446.0], 'Date': '2022/11/11', 'Simtrade': 1, 'TickType': [1], 'Time': '08:49:16.310730', 'VolSum': [0], 'Volume': [3901]}\n"
     ]
    },
    {
     "name": "stdout",
     "output_type": "stream",
     "text": [
      "MKT/idcdmzpcr01/TSE/2330 {'AmountSum': [0.0], 'Close': [447.0], 'Date': '2022/11/11', 'Simtrade': 1, 'TickType': [1], 'Time': '08:49:21.325931', 'VolSum': [0], 'Volume': [4053]}\n",
      "MKT/idcdmzpcr01/TSE/2330 {'AmountSum': [0.0], 'Close': [447.0], 'Date': '2022/11/11', 'Simtrade': 1, 'TickType': [2], 'Time': '08:49:26.337024', 'VolSum': [0], 'Volume': [4054]}\n",
      "MKT/idcdmzpcr01/TSE/2330 {'AmountSum': [0.0], 'Close': [447.0], 'Date': '2022/11/11', 'Simtrade': 1, 'TickType': [2], 'Time': '08:49:31.349160', 'VolSum': [0], 'Volume': [4050]}\n",
      "MKT/idcdmzpcr01/TSE/2330 {'AmountSum': [0.0], 'Close': [447.0], 'Date': '2022/11/11', 'Simtrade': 1, 'TickType': [2], 'Time': '08:49:36.363317', 'VolSum': [0], 'Volume': [4058]}\n",
      "MKT/idcdmzpcr01/TSE/2330 {'AmountSum': [0.0], 'Close': [447.0], 'Date': '2022/11/11', 'Simtrade': 1, 'TickType': [2], 'Time': '08:49:41.378511', 'VolSum': [0], 'Volume': [4065]}\n",
      "MKT/idcdmzpcr01/TSE/2330 {'AmountSum': [0.0], 'Close': [447.0], 'Date': '2022/11/11', 'Simtrade': 1, 'TickType': [2], 'Time': '08:49:46.393699', 'VolSum': [0], 'Volume': [4077]}\n",
      "MKT/idcdmzpcr01/TSE/2330 {'AmountSum': [0.0], 'Close': [447.0], 'Date': '2022/11/11', 'Simtrade': 1, 'TickType': [2], 'Time': '08:49:51.408897', 'VolSum': [0], 'Volume': [4068]}\n",
      "MKT/idcdmzpcr01/TSE/2330 {'AmountSum': [0.0], 'Close': [447.0], 'Date': '2022/11/11', 'Simtrade': 1, 'TickType': [2], 'Time': '08:49:56.422047', 'VolSum': [0], 'Volume': [4083]}\n",
      "MKT/idcdmzpcr01/TSE/2330 {'AmountSum': [0.0], 'Close': [447.0], 'Date': '2022/11/11', 'Simtrade': 1, 'TickType': [2], 'Time': '08:50:01.437239', 'VolSum': [0], 'Volume': [4093]}\n",
      "MKT/idcdmzpcr01/TSE/2330 {'AmountSum': [0.0], 'Close': [447.5], 'Date': '2022/11/11', 'Simtrade': 1, 'TickType': [1], 'Time': '08:50:06.449757', 'VolSum': [0], 'Volume': [4145]}\n",
      "MKT/idcdmzpcr01/TSE/2330 {'AmountSum': [0.0], 'Close': [447.5], 'Date': '2022/11/11', 'Simtrade': 1, 'TickType': [1], 'Time': '08:50:11.461479', 'VolSum': [0], 'Volume': [4155]}\n",
      "MKT/idcdmzpcr01/TSE/2330 {'AmountSum': [0.0], 'Close': [448.0], 'Date': '2022/11/11', 'Simtrade': 1, 'TickType': [1], 'Time': '08:50:16.480091', 'VolSum': [0], 'Volume': [4605]}\n",
      "MKT/idcdmzpcr01/TSE/2330 {'AmountSum': [0.0], 'Close': [448.0], 'Date': '2022/11/11', 'Simtrade': 1, 'TickType': [1], 'Time': '08:50:21.539304', 'VolSum': [0], 'Volume': [4614]}\n"
     ]
    }
   ],
   "source": [
    "api.quote.subscribe(api.Contracts.Stocks[\"2330\"], quote_type=\"tick\")"
   ]
  },
  {
   "cell_type": "code",
   "execution_count": 36,
   "id": "4b063c6b",
   "metadata": {},
   "outputs": [
    {
     "name": "stdout",
     "output_type": "stream",
     "text": [
      "MKT/idcdmzpcr01/TSE/2330 {'AmountSum': [9145849000.0], 'Close': [440.0], 'Date': '2022/11/11', 'TickType': [2], 'Time': '09:10:10.002176', 'VolSum': [20733], 'Volume': [11]}\n",
      "Response Code: 200 | Event Code: 16 | Info: MKT/*/TSE/2330 | Event: Subscribe or Unsubscribe ok\n"
     ]
    }
   ],
   "source": [
    "api.quote.unsubscribe(api.Contracts.Stocks[\"2330\"], quote_type=\"tick\")"
   ]
  },
  {
   "cell_type": "code",
   "execution_count": 48,
   "id": "39f2b177",
   "metadata": {},
   "outputs": [
    {
     "data": {
      "text/html": [
       "<div>\n",
       "<style scoped>\n",
       "    .dataframe tbody tr th:only-of-type {\n",
       "        vertical-align: middle;\n",
       "    }\n",
       "\n",
       "    .dataframe tbody tr th {\n",
       "        vertical-align: top;\n",
       "    }\n",
       "\n",
       "    .dataframe thead th {\n",
       "        text-align: right;\n",
       "    }\n",
       "</style>\n",
       "<table border=\"1\" class=\"dataframe\">\n",
       "  <thead>\n",
       "    <tr style=\"text-align: right;\">\n",
       "      <th></th>\n",
       "      <th>close</th>\n",
       "      <th>volume</th>\n",
       "      <th>bid_price</th>\n",
       "      <th>bid_volume</th>\n",
       "      <th>ask_volume</th>\n",
       "      <th>tick_type</th>\n",
       "      <th>ask_price</th>\n",
       "      <th>ts</th>\n",
       "    </tr>\n",
       "  </thead>\n",
       "  <tbody>\n",
       "    <tr>\n",
       "      <th>0</th>\n",
       "      <td>322.0</td>\n",
       "      <td>5098</td>\n",
       "      <td>321.5</td>\n",
       "      <td>5</td>\n",
       "      <td>646</td>\n",
       "      <td>0</td>\n",
       "      <td>322.0</td>\n",
       "      <td>2020-03-04 09:00:00.821</td>\n",
       "    </tr>\n",
       "    <tr>\n",
       "      <th>1</th>\n",
       "      <td>321.5</td>\n",
       "      <td>91</td>\n",
       "      <td>321.0</td>\n",
       "      <td>100</td>\n",
       "      <td>13</td>\n",
       "      <td>0</td>\n",
       "      <td>321.5</td>\n",
       "      <td>2020-03-04 09:00:05.836</td>\n",
       "    </tr>\n",
       "    <tr>\n",
       "      <th>2</th>\n",
       "      <td>321.0</td>\n",
       "      <td>126</td>\n",
       "      <td>321.0</td>\n",
       "      <td>94</td>\n",
       "      <td>31</td>\n",
       "      <td>2</td>\n",
       "      <td>321.5</td>\n",
       "      <td>2020-03-04 09:00:10.849</td>\n",
       "    </tr>\n",
       "    <tr>\n",
       "      <th>3</th>\n",
       "      <td>321.0</td>\n",
       "      <td>59</td>\n",
       "      <td>321.0</td>\n",
       "      <td>78</td>\n",
       "      <td>86</td>\n",
       "      <td>2</td>\n",
       "      <td>321.5</td>\n",
       "      <td>2020-03-04 09:00:15.864</td>\n",
       "    </tr>\n",
       "    <tr>\n",
       "      <th>4</th>\n",
       "      <td>321.0</td>\n",
       "      <td>90</td>\n",
       "      <td>321.0</td>\n",
       "      <td>20</td>\n",
       "      <td>199</td>\n",
       "      <td>2</td>\n",
       "      <td>321.5</td>\n",
       "      <td>2020-03-04 09:00:20.877</td>\n",
       "    </tr>\n",
       "    <tr>\n",
       "      <th>5</th>\n",
       "      <td>321.0</td>\n",
       "      <td>42</td>\n",
       "      <td>320.5</td>\n",
       "      <td>24</td>\n",
       "      <td>45</td>\n",
       "      <td>2</td>\n",
       "      <td>321.0</td>\n",
       "      <td>2020-03-04 09:00:25.890</td>\n",
       "    </tr>\n",
       "    <tr>\n",
       "      <th>6</th>\n",
       "      <td>320.5</td>\n",
       "      <td>97</td>\n",
       "      <td>320.0</td>\n",
       "      <td>345</td>\n",
       "      <td>23</td>\n",
       "      <td>2</td>\n",
       "      <td>320.5</td>\n",
       "      <td>2020-03-04 09:00:30.905</td>\n",
       "    </tr>\n",
       "    <tr>\n",
       "      <th>7</th>\n",
       "      <td>320.5</td>\n",
       "      <td>84</td>\n",
       "      <td>320.0</td>\n",
       "      <td>359</td>\n",
       "      <td>4</td>\n",
       "      <td>2</td>\n",
       "      <td>320.5</td>\n",
       "      <td>2020-03-04 09:00:35.919</td>\n",
       "    </tr>\n",
       "    <tr>\n",
       "      <th>8</th>\n",
       "      <td>320.0</td>\n",
       "      <td>28</td>\n",
       "      <td>320.0</td>\n",
       "      <td>369</td>\n",
       "      <td>24</td>\n",
       "      <td>2</td>\n",
       "      <td>320.5</td>\n",
       "      <td>2020-03-04 09:00:40.934</td>\n",
       "    </tr>\n",
       "    <tr>\n",
       "      <th>9</th>\n",
       "      <td>320.5</td>\n",
       "      <td>80</td>\n",
       "      <td>320.0</td>\n",
       "      <td>369</td>\n",
       "      <td>4</td>\n",
       "      <td>1</td>\n",
       "      <td>320.5</td>\n",
       "      <td>2020-03-04 09:00:45.946</td>\n",
       "    </tr>\n",
       "    <tr>\n",
       "      <th>10</th>\n",
       "      <td>320.0</td>\n",
       "      <td>76</td>\n",
       "      <td>320.0</td>\n",
       "      <td>365</td>\n",
       "      <td>24</td>\n",
       "      <td>2</td>\n",
       "      <td>320.5</td>\n",
       "      <td>2020-03-04 09:00:50.961</td>\n",
       "    </tr>\n",
       "    <tr>\n",
       "      <th>11</th>\n",
       "      <td>320.0</td>\n",
       "      <td>101</td>\n",
       "      <td>320.0</td>\n",
       "      <td>274</td>\n",
       "      <td>90</td>\n",
       "      <td>2</td>\n",
       "      <td>320.5</td>\n",
       "      <td>2020-03-04 09:00:55.974</td>\n",
       "    </tr>\n",
       "    <tr>\n",
       "      <th>12</th>\n",
       "      <td>320.5</td>\n",
       "      <td>66</td>\n",
       "      <td>320.0</td>\n",
       "      <td>282</td>\n",
       "      <td>134</td>\n",
       "      <td>1</td>\n",
       "      <td>320.5</td>\n",
       "      <td>2020-03-04 09:01:00.989</td>\n",
       "    </tr>\n",
       "    <tr>\n",
       "      <th>13</th>\n",
       "      <td>320.0</td>\n",
       "      <td>98</td>\n",
       "      <td>320.0</td>\n",
       "      <td>263</td>\n",
       "      <td>166</td>\n",
       "      <td>2</td>\n",
       "      <td>320.5</td>\n",
       "      <td>2020-03-04 09:01:06.003</td>\n",
       "    </tr>\n",
       "    <tr>\n",
       "      <th>14</th>\n",
       "      <td>320.5</td>\n",
       "      <td>178</td>\n",
       "      <td>320.0</td>\n",
       "      <td>266</td>\n",
       "      <td>120</td>\n",
       "      <td>1</td>\n",
       "      <td>320.5</td>\n",
       "      <td>2020-03-04 09:01:11.018</td>\n",
       "    </tr>\n",
       "    <tr>\n",
       "      <th>15</th>\n",
       "      <td>320.5</td>\n",
       "      <td>201</td>\n",
       "      <td>320.0</td>\n",
       "      <td>271</td>\n",
       "      <td>117</td>\n",
       "      <td>1</td>\n",
       "      <td>320.5</td>\n",
       "      <td>2020-03-04 09:01:16.034</td>\n",
       "    </tr>\n",
       "    <tr>\n",
       "      <th>16</th>\n",
       "      <td>320.5</td>\n",
       "      <td>146</td>\n",
       "      <td>320.0</td>\n",
       "      <td>282</td>\n",
       "      <td>49</td>\n",
       "      <td>1</td>\n",
       "      <td>320.5</td>\n",
       "      <td>2020-03-04 09:01:21.049</td>\n",
       "    </tr>\n",
       "    <tr>\n",
       "      <th>17</th>\n",
       "      <td>321.0</td>\n",
       "      <td>103</td>\n",
       "      <td>320.5</td>\n",
       "      <td>28</td>\n",
       "      <td>181</td>\n",
       "      <td>1</td>\n",
       "      <td>321.0</td>\n",
       "      <td>2020-03-04 09:01:26.063</td>\n",
       "    </tr>\n",
       "    <tr>\n",
       "      <th>18</th>\n",
       "      <td>320.5</td>\n",
       "      <td>61</td>\n",
       "      <td>320.5</td>\n",
       "      <td>31</td>\n",
       "      <td>240</td>\n",
       "      <td>1</td>\n",
       "      <td>321.0</td>\n",
       "      <td>2020-03-04 09:01:31.076</td>\n",
       "    </tr>\n",
       "    <tr>\n",
       "      <th>19</th>\n",
       "      <td>321.0</td>\n",
       "      <td>20</td>\n",
       "      <td>320.5</td>\n",
       "      <td>113</td>\n",
       "      <td>280</td>\n",
       "      <td>1</td>\n",
       "      <td>321.0</td>\n",
       "      <td>2020-03-04 09:01:36.090</td>\n",
       "    </tr>\n",
       "  </tbody>\n",
       "</table>\n",
       "</div>"
      ],
      "text/plain": [
       "    close  volume  bid_price  bid_volume  ask_volume  tick_type  ask_price  \\\n",
       "0   322.0    5098      321.5           5         646          0      322.0   \n",
       "1   321.5      91      321.0         100          13          0      321.5   \n",
       "2   321.0     126      321.0          94          31          2      321.5   \n",
       "3   321.0      59      321.0          78          86          2      321.5   \n",
       "4   321.0      90      321.0          20         199          2      321.5   \n",
       "5   321.0      42      320.5          24          45          2      321.0   \n",
       "6   320.5      97      320.0         345          23          2      320.5   \n",
       "7   320.5      84      320.0         359           4          2      320.5   \n",
       "8   320.0      28      320.0         369          24          2      320.5   \n",
       "9   320.5      80      320.0         369           4          1      320.5   \n",
       "10  320.0      76      320.0         365          24          2      320.5   \n",
       "11  320.0     101      320.0         274          90          2      320.5   \n",
       "12  320.5      66      320.0         282         134          1      320.5   \n",
       "13  320.0      98      320.0         263         166          2      320.5   \n",
       "14  320.5     178      320.0         266         120          1      320.5   \n",
       "15  320.5     201      320.0         271         117          1      320.5   \n",
       "16  320.5     146      320.0         282          49          1      320.5   \n",
       "17  321.0     103      320.5          28         181          1      321.0   \n",
       "18  320.5      61      320.5          31         240          1      321.0   \n",
       "19  321.0      20      320.5         113         280          1      321.0   \n",
       "\n",
       "                        ts  \n",
       "0  2020-03-04 09:00:00.821  \n",
       "1  2020-03-04 09:00:05.836  \n",
       "2  2020-03-04 09:00:10.849  \n",
       "3  2020-03-04 09:00:15.864  \n",
       "4  2020-03-04 09:00:20.877  \n",
       "5  2020-03-04 09:00:25.890  \n",
       "6  2020-03-04 09:00:30.905  \n",
       "7  2020-03-04 09:00:35.919  \n",
       "8  2020-03-04 09:00:40.934  \n",
       "9  2020-03-04 09:00:45.946  \n",
       "10 2020-03-04 09:00:50.961  \n",
       "11 2020-03-04 09:00:55.974  \n",
       "12 2020-03-04 09:01:00.989  \n",
       "13 2020-03-04 09:01:06.003  \n",
       "14 2020-03-04 09:01:11.018  \n",
       "15 2020-03-04 09:01:16.034  \n",
       "16 2020-03-04 09:01:21.049  \n",
       "17 2020-03-04 09:01:26.063  \n",
       "18 2020-03-04 09:01:31.076  \n",
       "19 2020-03-04 09:01:36.090  "
      ]
     },
     "execution_count": 48,
     "metadata": {},
     "output_type": "execute_result"
    }
   ],
   "source": [
    "# get ticks\n",
    "ticks = api.ticks(api.Contracts.Stocks[\"2330\"], \"2020-03-04\")\n",
    "import pandas as pd\n",
    "df = pd.DataFrame({**ticks})\n",
    "df.ts = pd.to_datetime(df.ts)\n",
    "df.iloc[:20:]"
   ]
  },
  {
   "cell_type": "code",
   "execution_count": 49,
   "id": "76b429da",
   "metadata": {
    "scrolled": false
   },
   "outputs": [
    {
     "data": {
      "text/html": [
       "<div>\n",
       "<style scoped>\n",
       "    .dataframe tbody tr th:only-of-type {\n",
       "        vertical-align: middle;\n",
       "    }\n",
       "\n",
       "    .dataframe tbody tr th {\n",
       "        vertical-align: top;\n",
       "    }\n",
       "\n",
       "    .dataframe thead th {\n",
       "        text-align: right;\n",
       "    }\n",
       "</style>\n",
       "<table border=\"1\" class=\"dataframe\">\n",
       "  <thead>\n",
       "    <tr style=\"text-align: right;\">\n",
       "      <th></th>\n",
       "      <th>High</th>\n",
       "      <th>Volume</th>\n",
       "      <th>Close</th>\n",
       "      <th>Amount</th>\n",
       "      <th>Open</th>\n",
       "      <th>Low</th>\n",
       "      <th>ts</th>\n",
       "    </tr>\n",
       "  </thead>\n",
       "  <tbody>\n",
       "    <tr>\n",
       "      <th>0</th>\n",
       "      <td>294.0</td>\n",
       "      <td>3187</td>\n",
       "      <td>294.0</td>\n",
       "      <td>936947000.0</td>\n",
       "      <td>294.0</td>\n",
       "      <td>293.5</td>\n",
       "      <td>2020-06-01 09:01:00</td>\n",
       "    </tr>\n",
       "    <tr>\n",
       "      <th>1</th>\n",
       "      <td>294.0</td>\n",
       "      <td>201</td>\n",
       "      <td>293.5</td>\n",
       "      <td>59079000.0</td>\n",
       "      <td>293.5</td>\n",
       "      <td>293.5</td>\n",
       "      <td>2020-06-01 09:02:00</td>\n",
       "    </tr>\n",
       "    <tr>\n",
       "      <th>2</th>\n",
       "      <td>294.0</td>\n",
       "      <td>267</td>\n",
       "      <td>294.0</td>\n",
       "      <td>78422000.0</td>\n",
       "      <td>293.5</td>\n",
       "      <td>293.5</td>\n",
       "      <td>2020-06-01 09:03:00</td>\n",
       "    </tr>\n",
       "    <tr>\n",
       "      <th>3</th>\n",
       "      <td>294.5</td>\n",
       "      <td>624</td>\n",
       "      <td>294.5</td>\n",
       "      <td>183489000.0</td>\n",
       "      <td>294.0</td>\n",
       "      <td>293.5</td>\n",
       "      <td>2020-06-01 09:04:00</td>\n",
       "    </tr>\n",
       "    <tr>\n",
       "      <th>4</th>\n",
       "      <td>294.5</td>\n",
       "      <td>419</td>\n",
       "      <td>294.0</td>\n",
       "      <td>123194000.0</td>\n",
       "      <td>294.0</td>\n",
       "      <td>293.5</td>\n",
       "      <td>2020-06-01 09:05:00</td>\n",
       "    </tr>\n",
       "    <tr>\n",
       "      <th>...</th>\n",
       "      <td>...</td>\n",
       "      <td>...</td>\n",
       "      <td>...</td>\n",
       "      <td>...</td>\n",
       "      <td>...</td>\n",
       "      <td>...</td>\n",
       "      <td>...</td>\n",
       "    </tr>\n",
       "    <tr>\n",
       "      <th>5581</th>\n",
       "      <td>317.5</td>\n",
       "      <td>265</td>\n",
       "      <td>317.0</td>\n",
       "      <td>84010000.0</td>\n",
       "      <td>317.5</td>\n",
       "      <td>317.0</td>\n",
       "      <td>2020-07-01 13:22:00</td>\n",
       "    </tr>\n",
       "    <tr>\n",
       "      <th>5582</th>\n",
       "      <td>317.0</td>\n",
       "      <td>134</td>\n",
       "      <td>317.0</td>\n",
       "      <td>42424000.0</td>\n",
       "      <td>316.5</td>\n",
       "      <td>316.5</td>\n",
       "      <td>2020-07-01 13:23:00</td>\n",
       "    </tr>\n",
       "    <tr>\n",
       "      <th>5583</th>\n",
       "      <td>317.0</td>\n",
       "      <td>134</td>\n",
       "      <td>316.5</td>\n",
       "      <td>42429000.0</td>\n",
       "      <td>316.5</td>\n",
       "      <td>316.5</td>\n",
       "      <td>2020-07-01 13:24:00</td>\n",
       "    </tr>\n",
       "    <tr>\n",
       "      <th>5584</th>\n",
       "      <td>317.0</td>\n",
       "      <td>210</td>\n",
       "      <td>316.5</td>\n",
       "      <td>66547000.0</td>\n",
       "      <td>316.5</td>\n",
       "      <td>316.5</td>\n",
       "      <td>2020-07-01 13:25:00</td>\n",
       "    </tr>\n",
       "    <tr>\n",
       "      <th>5585</th>\n",
       "      <td>317.5</td>\n",
       "      <td>2974</td>\n",
       "      <td>317.5</td>\n",
       "      <td>944245000.0</td>\n",
       "      <td>317.5</td>\n",
       "      <td>317.5</td>\n",
       "      <td>2020-07-01 13:30:00</td>\n",
       "    </tr>\n",
       "  </tbody>\n",
       "</table>\n",
       "<p>5586 rows × 7 columns</p>\n",
       "</div>"
      ],
      "text/plain": [
       "       High  Volume  Close       Amount   Open    Low                  ts\n",
       "0     294.0    3187  294.0  936947000.0  294.0  293.5 2020-06-01 09:01:00\n",
       "1     294.0     201  293.5   59079000.0  293.5  293.5 2020-06-01 09:02:00\n",
       "2     294.0     267  294.0   78422000.0  293.5  293.5 2020-06-01 09:03:00\n",
       "3     294.5     624  294.5  183489000.0  294.0  293.5 2020-06-01 09:04:00\n",
       "4     294.5     419  294.0  123194000.0  294.0  293.5 2020-06-01 09:05:00\n",
       "...     ...     ...    ...          ...    ...    ...                 ...\n",
       "5581  317.5     265  317.0   84010000.0  317.5  317.0 2020-07-01 13:22:00\n",
       "5582  317.0     134  317.0   42424000.0  316.5  316.5 2020-07-01 13:23:00\n",
       "5583  317.0     134  316.5   42429000.0  316.5  316.5 2020-07-01 13:24:00\n",
       "5584  317.0     210  316.5   66547000.0  316.5  316.5 2020-07-01 13:25:00\n",
       "5585  317.5    2974  317.5  944245000.0  317.5  317.5 2020-07-01 13:30:00\n",
       "\n",
       "[5586 rows x 7 columns]"
      ]
     },
     "execution_count": 49,
     "metadata": {},
     "output_type": "execute_result"
    }
   ],
   "source": [
    "# get k bars\n",
    "kbars = api.kbars(api.Contracts.Stocks[\"2330\"], start=\"2020-06-01\", end=\"2020-07-01\")\n",
    "df = pd.DataFrame({**kbars})\n",
    "df.ts = pd.to_datetime(df.ts)\n",
    "df"
   ]
  },
  {
   "cell_type": "code",
   "execution_count": null,
   "id": "09f5ca16",
   "metadata": {},
   "outputs": [],
   "source": []
  },
  {
   "cell_type": "code",
   "execution_count": 24,
   "id": "e44ace8a",
   "metadata": {},
   "outputs": [
    {
     "data": {
      "text/plain": [
       "True"
      ]
     },
     "execution_count": 24,
     "metadata": {},
     "output_type": "execute_result"
    }
   ],
   "source": [
    "api.logout() # 登出"
   ]
  },
  {
   "cell_type": "code",
   "execution_count": 67,
   "id": "5de62225",
   "metadata": {},
   "outputs": [],
   "source": [
    "# -*- coding: utf-8 -*-\n",
    "import pandas as pd\n",
    "import requests\n",
    "import orjson\n",
    "from datetime import date, datetime\n",
    "\n",
    "\n",
    "def write_txt(result_df, backtesting_config_dict, temp_date):\n",
    "    path = f\"{backtesting_config_dict['api_info']['daily_data_fold']}source_data/\" \\\n",
    "           f\"{str(temp_date).replace('-', '')}.txt\"\n",
    "    f = open(path, 'w', encoding=\"utf-8\")\n",
    "    for i in range(len(result_df)):\n",
    "        symbol_id = result_df.iloc[i]['代碼'].split('.TW')[0]\n",
    "        # 舊資料是1 代表可以先賣後買地當沖，GET方法取資料的方法是相反\n",
    "        if result_df.iloc[i]['暫停先賣後買'] == 0:\n",
    "            day_trading_info = 1\n",
    "        else:\n",
    "            day_trading_info = 0\n",
    "        f.write(f'{symbol_id},{result_df.iloc[i][\"名稱\"]},{day_trading_info},{result_df.iloc[i][\"sum_money\"]}\\n')\n",
    "    f.close()\n",
    "\n",
    "\n",
    "def create_daily_source_data(backtesting_config_dict):\n",
    "    start_date = backtesting_config_dict['start_date']\n",
    "    temp_date = start_date\n",
    "    print(temp_date)\n",
    "    api_url = backtesting_config_dict['api_info']['data_winner'] + backtesting_config_dict['api_info'][\n",
    "        'day_trading_amt_last_5_api'].replace('trade_date', str(temp_date).replace('-', ''))\n",
    "    print(api_url)\n",
    "    day_trading_amt_last_5_info = requests.get(api_url)\n",
    "    day_trading_amt_last_5_df = pd.DataFrame(orjson.loads(day_trading_amt_last_5_info.text).get('d1'))\n",
    "    print(day_trading_amt_last_5_df.keys())\n",
    "    # 空值補0\n",
    "    for key in ['當沖買進金額', '當沖買進金額(T-1)', '當沖買進金額(T-2)', '當沖買進金額(T-3)', '當沖買進金額(T-4)',\n",
    "                '當沖賣出金額', '當沖賣出金額(T-1)', '當沖賣出金額(T-2)', '當沖賣出金額(T-3)', '當沖賣出金額(T-4)']:\n",
    "        day_trading_amt_last_5_df[key] = day_trading_amt_last_5_df[key].fillna(0)\n",
    "    day_trading_amt_last_5_df['sum_money'] = \\\n",
    "        day_trading_amt_last_5_df['當沖買進金額'] + day_trading_amt_last_5_df['當沖買進金額(T-1)'] + \\\n",
    "        day_trading_amt_last_5_df['當沖買進金額(T-2)'] + day_trading_amt_last_5_df['當沖買進金額(T-3)'] + \\\n",
    "        day_trading_amt_last_5_df['當沖買進金額(T-4)'] + day_trading_amt_last_5_df['當沖賣出金額'] + \\\n",
    "        day_trading_amt_last_5_df['當沖賣出金額(T-1)'] + day_trading_amt_last_5_df['當沖賣出金額(T-2)'] + \\\n",
    "        day_trading_amt_last_5_df['當沖賣出金額(T-3)'] + day_trading_amt_last_5_df['當沖賣出金額(T-4)']\n",
    "    mean_sum_money = []\n",
    "    for j in range(len(day_trading_amt_last_5_df)):\n",
    "        non_zreo = 10\n",
    "        for key in ['當沖買進金額', '當沖買進金額(T-1)', '當沖買進金額(T-2)', '當沖買進金額(T-3)', '當沖買進金額(T-4)',\n",
    "                    '當沖賣出金額', '當沖賣出金額(T-1)', '當沖賣出金額(T-2)', '當沖賣出金額(T-3)', '當沖賣出金額(T-4)']:\n",
    "            if day_trading_amt_last_5_df.iloc[j][key] == 0:\n",
    "                non_zreo = non_zreo - 1\n",
    "        if non_zreo == 0:\n",
    "            mean_sum_money.append(0)\n",
    "        else:\n",
    "            mean_sum_money.append(round(day_trading_amt_last_5_df.iloc[j]['sum_money'] / non_zreo, 2))\n",
    "    day_trading_amt_last_5_df['new_sum_money'] = mean_sum_money\n",
    "    result_df = day_trading_amt_last_5_df.sort_values(by=['new_sum_money'], ascending=False).reset_index()\n",
    "    write_txt(result_df, backtesting_config_dict, temp_date)\n",
    "    return day_trading_amt_last_5_df\n",
    "\n",
    "\n",
    "def data_preprocessing():\n",
    "    this_config_dict = {\n",
    "        # 'start_date': date(2022, 11, 8),\n",
    "        'start_date': datetime.now().date(),\n",
    "        'api_info': {\n",
    "            # 'daily_data_fold': 'D:/pythonProject/day_trading_amt_short/daily_data/',\n",
    "            'daily_data_fold': '/home/ss900405tw/Desktop/stockPredict/daily_data/',\n",
    "            'data_winner': 'https://dwin.megatime.com.tw/v3/?act=db&token=byfrclqxxi4mmvqxb2nfstsc&',\n",
    "            'open_days': 's=TWNT0000&f=收盤@C[ATD0,trade_date,0,0/]|1/-1/0/0/,收盤(T-1)@C[ATD1,trade_date,0,0/]|1/-1/0/0/,收盤(T-2)@C[ATD2,trade_date,0,0/]|1/-1/0/0/,收盤(T-3)@C[ATD3,trade_date,0,0/]|1/-1/0/0/,收盤(T-4)@C[ATD4,trade_date,0,0/]|1/-1/0/0/,收盤(T-5)@C[ATD5,trade_date,0,0/]|1/-1/0/0/,收盤(T-6)@C[ATD6,trade_date,0,0/]|1/-1/0/0/,收盤(T-7)@C[ATD7,trade_date,0,0/]|1/-1/0/0/,收盤(T-8)@C[ATD8,trade_date,0,0/]|1/-1/0/0/,收盤(T-9)@C[ATD9,trade_date,0,0/]|1/-1/0/0/,收盤(T-10)@C[ATD10,trade_date,0,0/]|1/-1/0/0/,收盤(T-11)@C[ATD11,trade_date,0,0/]|1/-1/0/0/,收盤(T-12)@C[ATD12,trade_date,0,0/]|1/-1/0/0/,收盤(T-13)@C[ATD13,trade_date,0,0/]|1/-1/0/0/,收盤(T-14)@C[ATD14,trade_date,0,0/]|1/-1/0/0/,收盤(T-15)@C[ATD15,trade_date,0,0/]|1/-1/0/0/,收盤(T-16)@C[ATD16,trade_date,0,0/]|1/-1/0/0/,收盤(T-17)@C[ATD17,trade_date,0,0/]|1/-1/0/0/,收盤(T-18)@C[ATD18,trade_date,0,0/]|1/-1/0/0/,收盤(T-19)@C[ATD19,trade_date,0,0/]|1/-1/0/0/,&v=1&bt=0&area=0A&dir=0&t=0&o=3&fuid=0&alt=3',\n",
    "            'day_trading_amt_last_5_api': 's=G0A301,G0A308,G0A309&f=暫停先賣後買@cashBuyRmk[ATD0/]|1/-1/0/0/,當沖買進金額@buyAmount[ATD0,trade_date,0,0/]|1/-1/0/0/,當沖買進金額(T-1)@buyAmount[ATD1,trade_date,0,0/]|1/-1/0/0/,當沖買進金額(T-2)@buyAmount[ATD2,trade_date,0,0/]|1/-1/0/0/,當沖買進金額(T-3)@buyAmount[ATD3,trade_date,0,0/]|1/-1/0/0/,當沖買進金額(T-4)@buyAmount[ATD4,trade_date,0,0/]|1/-1/0/0/,當沖賣出金額@sellAmount[ATD0,trade_date,0,0/]|1/-1/0/0/,當沖賣出金額(T-1)@sellAmount[ATD1,trade_date,0,0/]|1/-1/0/0/,當沖賣出金額(T-2)@sellAmount[ATD2,trade_date,0,0/]|1/-1/0/0/,當沖賣出金額(T-3)@sellAmount[ATD3,trade_date,0,0/]|1/-1/0/0/,當沖賣出金額(T-4)@sellAmount[ATD4,trade_date,0,0/]|1/-1/0/0/,&v=1&bt=0&area=0A&dir=0&t=0&o=3&fuid=0&alt=1',\n",
    "            'fund_info': 's=G0A301,G0A308,G0A309&f=成交量(張)@VOL[ATD0,trade_date,0,0/]|1/-1/0/0/,成交量(張)(T-1)@VOL[ATD1,trade_date,0,0/]|1/-1/0/0/,成交量(張)(T-2)@VOL[ATD2,trade_date,0,0/]|1/-1/0/0/,自營商買賣超(避險)@dlrT2BalVol[ATD0,trade_date,0,0/]|1/-1/0/0/,自營商買賣超(避險)(T-1)@dlrT2BalVol[ATD1,trade_date,0,0/]|1/-1/0/0/,自營商買賣超(避險)(T-2)@dlrT2BalVol[ATD2,trade_date,0,0/]|1/-1/0/0/,自營商買賣超(自行買賣)@dlrT1BalVol[ATD0,trade_date,0,0/]|1/-1/0/0/,自營商買賣超(自行買賣)(T-1)@dlrT1BalVol[ATD1,trade_date,0,0/]|1/-1/0/0/,自營商買賣超(自行買賣)(T-2)@dlrT1BalVol[ATD2,trade_date,0,0/]|1/-1/0/0/,投信買賣超張數@ithBalVol[ATD0,trade_date,0,0/]|1/-1/0/0/,投信買賣超張數(T-1)@ithBalVol[ATD1,trade_date,0,0/]|1/-1/0/0/,投信買賣超張數(T-2)@ithBalVol[ATD2,trade_date,0,0/]|1/-1/0/0/,外資買賣超張數@frnBalVol[ATD0,trade_date,0,0/]|1/-1/0/0/,外資買賣超張數(T-1)@frnBalVol[ATD1,trade_date,0,0/]|1/-1/0/0/,外資買賣超張數(T-2)@frnBalVol[ATD2,trade_date,0,0/]|1/-1/0/0/,&v=1&bt=0&area=0A&dir=0&t=0&o=3&fuid=0&alt=1',\n",
    "        },\n",
    "    }\n",
    "    # 產生原始名單\n",
    "    day_trading_amt_last_5_df = create_daily_source_data(this_config_dict)\n",
    "    return day_trading_amt_last_5_df\n"
   ]
  },
  {
   "cell_type": "code",
   "execution_count": 68,
   "id": "3ad8aa55",
   "metadata": {},
   "outputs": [
    {
     "name": "stdout",
     "output_type": "stream",
     "text": [
      "2022-11-11\n",
      "https://dwin.megatime.com.tw/v3/?act=db&token=byfrclqxxi4mmvqxb2nfstsc&s=G0A301,G0A308,G0A309&f=暫停先賣後買@cashBuyRmk[ATD0/]|1/-1/0/0/,當沖買進金額@buyAmount[ATD0,20221111,0,0/]|1/-1/0/0/,當沖買進金額(T-1)@buyAmount[ATD1,20221111,0,0/]|1/-1/0/0/,當沖買進金額(T-2)@buyAmount[ATD2,20221111,0,0/]|1/-1/0/0/,當沖買進金額(T-3)@buyAmount[ATD3,20221111,0,0/]|1/-1/0/0/,當沖買進金額(T-4)@buyAmount[ATD4,20221111,0,0/]|1/-1/0/0/,當沖賣出金額@sellAmount[ATD0,20221111,0,0/]|1/-1/0/0/,當沖賣出金額(T-1)@sellAmount[ATD1,20221111,0,0/]|1/-1/0/0/,當沖賣出金額(T-2)@sellAmount[ATD2,20221111,0,0/]|1/-1/0/0/,當沖賣出金額(T-3)@sellAmount[ATD3,20221111,0,0/]|1/-1/0/0/,當沖賣出金額(T-4)@sellAmount[ATD4,20221111,0,0/]|1/-1/0/0/,&v=1&bt=0&area=0A&dir=0&t=0&o=3&fuid=0&alt=1\n",
      "Index(['代碼', '名稱', '暫停先賣後買', '當沖買進金額', '當沖買進金額(T-1)', '當沖買進金額(T-2)',\n",
      "       '當沖買進金額(T-3)', '當沖買進金額(T-4)', '當沖賣出金額', '當沖賣出金額(T-1)', '當沖賣出金額(T-2)',\n",
      "       '當沖賣出金額(T-3)', '當沖賣出金額(T-4)'],\n",
      "      dtype='object')\n"
     ]
    }
   ],
   "source": [
    "day_trading_amt_last_5_df = data_preprocessing()"
   ]
  },
  {
   "cell_type": "code",
   "execution_count": 64,
   "id": "0a4b06c5",
   "metadata": {},
   "outputs": [
    {
     "data": {
      "text/html": [
       "<div>\n",
       "<style scoped>\n",
       "    .dataframe tbody tr th:only-of-type {\n",
       "        vertical-align: middle;\n",
       "    }\n",
       "\n",
       "    .dataframe tbody tr th {\n",
       "        vertical-align: top;\n",
       "    }\n",
       "\n",
       "    .dataframe thead th {\n",
       "        text-align: right;\n",
       "    }\n",
       "</style>\n",
       "<table border=\"1\" class=\"dataframe\">\n",
       "  <thead>\n",
       "    <tr style=\"text-align: right;\">\n",
       "      <th></th>\n",
       "      <th>代碼</th>\n",
       "      <th>名稱</th>\n",
       "      <th>暫停先賣後買</th>\n",
       "      <th>當沖買進金額</th>\n",
       "      <th>當沖買進金額(T-1)</th>\n",
       "      <th>當沖買進金額(T-2)</th>\n",
       "      <th>當沖買進金額(T-3)</th>\n",
       "      <th>當沖買進金額(T-4)</th>\n",
       "      <th>當沖賣出金額</th>\n",
       "      <th>當沖賣出金額(T-1)</th>\n",
       "      <th>當沖賣出金額(T-2)</th>\n",
       "      <th>當沖賣出金額(T-3)</th>\n",
       "      <th>當沖賣出金額(T-4)</th>\n",
       "      <th>sum_money</th>\n",
       "      <th>new_sum_money</th>\n",
       "    </tr>\n",
       "  </thead>\n",
       "  <tbody>\n",
       "    <tr>\n",
       "      <th>0</th>\n",
       "      <td>0050.TW</td>\n",
       "      <td>元大台灣50</td>\n",
       "      <td>0.0</td>\n",
       "      <td>405697.50</td>\n",
       "      <td>124605.70</td>\n",
       "      <td>182769.66</td>\n",
       "      <td>110898.50</td>\n",
       "      <td>102355.40</td>\n",
       "      <td>405924.84</td>\n",
       "      <td>124619.05</td>\n",
       "      <td>183352.09</td>\n",
       "      <td>111031.05</td>\n",
       "      <td>102550.70</td>\n",
       "      <td>1853804.49</td>\n",
       "      <td>185380.45</td>\n",
       "    </tr>\n",
       "    <tr>\n",
       "      <th>1</th>\n",
       "      <td>0051.TW</td>\n",
       "      <td>元大中型100</td>\n",
       "      <td>1.0</td>\n",
       "      <td>423.65</td>\n",
       "      <td>0.00</td>\n",
       "      <td>0.00</td>\n",
       "      <td>155.35</td>\n",
       "      <td>202.30</td>\n",
       "      <td>424.10</td>\n",
       "      <td>0.00</td>\n",
       "      <td>0.00</td>\n",
       "      <td>154.90</td>\n",
       "      <td>204.65</td>\n",
       "      <td>1564.95</td>\n",
       "      <td>260.83</td>\n",
       "    </tr>\n",
       "    <tr>\n",
       "      <th>2</th>\n",
       "      <td>0052.TW</td>\n",
       "      <td>富邦科技</td>\n",
       "      <td>0.0</td>\n",
       "      <td>4888.90</td>\n",
       "      <td>2000.80</td>\n",
       "      <td>4694.65</td>\n",
       "      <td>933.15</td>\n",
       "      <td>1589.50</td>\n",
       "      <td>4885.80</td>\n",
       "      <td>2003.75</td>\n",
       "      <td>4718.15</td>\n",
       "      <td>936.25</td>\n",
       "      <td>1590.05</td>\n",
       "      <td>28241.00</td>\n",
       "      <td>2824.10</td>\n",
       "    </tr>\n",
       "    <tr>\n",
       "      <th>3</th>\n",
       "      <td>0053.TW</td>\n",
       "      <td>元大電子</td>\n",
       "      <td>1.0</td>\n",
       "      <td>0.00</td>\n",
       "      <td>0.00</td>\n",
       "      <td>0.00</td>\n",
       "      <td>49.96</td>\n",
       "      <td>0.00</td>\n",
       "      <td>0.00</td>\n",
       "      <td>0.00</td>\n",
       "      <td>0.00</td>\n",
       "      <td>50.40</td>\n",
       "      <td>0.00</td>\n",
       "      <td>100.36</td>\n",
       "      <td>50.18</td>\n",
       "    </tr>\n",
       "    <tr>\n",
       "      <th>4</th>\n",
       "      <td>0055.TW</td>\n",
       "      <td>元大MSCI金融</td>\n",
       "      <td>1.0</td>\n",
       "      <td>866.11</td>\n",
       "      <td>42.70</td>\n",
       "      <td>490.37</td>\n",
       "      <td>681.80</td>\n",
       "      <td>483.04</td>\n",
       "      <td>877.88</td>\n",
       "      <td>42.78</td>\n",
       "      <td>493.24</td>\n",
       "      <td>682.26</td>\n",
       "      <td>483.84</td>\n",
       "      <td>5144.02</td>\n",
       "      <td>514.40</td>\n",
       "    </tr>\n",
       "    <tr>\n",
       "      <th>...</th>\n",
       "      <td>...</td>\n",
       "      <td>...</td>\n",
       "      <td>...</td>\n",
       "      <td>...</td>\n",
       "      <td>...</td>\n",
       "      <td>...</td>\n",
       "      <td>...</td>\n",
       "      <td>...</td>\n",
       "      <td>...</td>\n",
       "      <td>...</td>\n",
       "      <td>...</td>\n",
       "      <td>...</td>\n",
       "      <td>...</td>\n",
       "      <td>...</td>\n",
       "      <td>...</td>\n",
       "    </tr>\n",
       "    <tr>\n",
       "      <th>2305</th>\n",
       "      <td>9955.TW</td>\n",
       "      <td>佳龍</td>\n",
       "      <td>0.0</td>\n",
       "      <td>2281.80</td>\n",
       "      <td>285.55</td>\n",
       "      <td>818.75</td>\n",
       "      <td>1085.10</td>\n",
       "      <td>2701.30</td>\n",
       "      <td>2258.30</td>\n",
       "      <td>285.75</td>\n",
       "      <td>817.65</td>\n",
       "      <td>1083.60</td>\n",
       "      <td>2707.05</td>\n",
       "      <td>14324.85</td>\n",
       "      <td>1432.48</td>\n",
       "    </tr>\n",
       "    <tr>\n",
       "      <th>2306</th>\n",
       "      <td>9957.TW</td>\n",
       "      <td>燁聯</td>\n",
       "      <td>NaN</td>\n",
       "      <td>0.00</td>\n",
       "      <td>0.00</td>\n",
       "      <td>0.00</td>\n",
       "      <td>0.00</td>\n",
       "      <td>0.00</td>\n",
       "      <td>0.00</td>\n",
       "      <td>0.00</td>\n",
       "      <td>0.00</td>\n",
       "      <td>0.00</td>\n",
       "      <td>0.00</td>\n",
       "      <td>0.00</td>\n",
       "      <td>0.00</td>\n",
       "    </tr>\n",
       "    <tr>\n",
       "      <th>2307</th>\n",
       "      <td>9958.TW</td>\n",
       "      <td>世紀鋼</td>\n",
       "      <td>0.0</td>\n",
       "      <td>87627.40</td>\n",
       "      <td>55023.20</td>\n",
       "      <td>53802.40</td>\n",
       "      <td>82056.10</td>\n",
       "      <td>30594.20</td>\n",
       "      <td>87511.00</td>\n",
       "      <td>55218.00</td>\n",
       "      <td>53725.90</td>\n",
       "      <td>82344.10</td>\n",
       "      <td>30613.40</td>\n",
       "      <td>618515.70</td>\n",
       "      <td>61851.57</td>\n",
       "    </tr>\n",
       "    <tr>\n",
       "      <th>2308</th>\n",
       "      <td>9960.TW</td>\n",
       "      <td>邁達康</td>\n",
       "      <td>0.0</td>\n",
       "      <td>1806.70</td>\n",
       "      <td>211.05</td>\n",
       "      <td>502.45</td>\n",
       "      <td>5185.75</td>\n",
       "      <td>123.75</td>\n",
       "      <td>1798.80</td>\n",
       "      <td>211.20</td>\n",
       "      <td>505.10</td>\n",
       "      <td>5208.50</td>\n",
       "      <td>124.30</td>\n",
       "      <td>15677.60</td>\n",
       "      <td>1567.76</td>\n",
       "    </tr>\n",
       "    <tr>\n",
       "      <th>2309</th>\n",
       "      <td>9962.TW</td>\n",
       "      <td>有益</td>\n",
       "      <td>0.0</td>\n",
       "      <td>1999.00</td>\n",
       "      <td>163.20</td>\n",
       "      <td>590.80</td>\n",
       "      <td>358.35</td>\n",
       "      <td>901.65</td>\n",
       "      <td>1991.65</td>\n",
       "      <td>164.55</td>\n",
       "      <td>589.75</td>\n",
       "      <td>359.00</td>\n",
       "      <td>906.85</td>\n",
       "      <td>8024.80</td>\n",
       "      <td>802.48</td>\n",
       "    </tr>\n",
       "  </tbody>\n",
       "</table>\n",
       "<p>2310 rows × 15 columns</p>\n",
       "</div>"
      ],
      "text/plain": [
       "           代碼        名稱  暫停先賣後買     當沖買進金額  當沖買進金額(T-1)  當沖買進金額(T-2)  \\\n",
       "0     0050.TW    元大台灣50     0.0  405697.50    124605.70    182769.66   \n",
       "1     0051.TW   元大中型100     1.0     423.65         0.00         0.00   \n",
       "2     0052.TW      富邦科技     0.0    4888.90      2000.80      4694.65   \n",
       "3     0053.TW      元大電子     1.0       0.00         0.00         0.00   \n",
       "4     0055.TW  元大MSCI金融     1.0     866.11        42.70       490.37   \n",
       "...       ...       ...     ...        ...          ...          ...   \n",
       "2305  9955.TW        佳龍     0.0    2281.80       285.55       818.75   \n",
       "2306  9957.TW        燁聯     NaN       0.00         0.00         0.00   \n",
       "2307  9958.TW       世紀鋼     0.0   87627.40     55023.20     53802.40   \n",
       "2308  9960.TW       邁達康     0.0    1806.70       211.05       502.45   \n",
       "2309  9962.TW        有益     0.0    1999.00       163.20       590.80   \n",
       "\n",
       "      當沖買進金額(T-3)  當沖買進金額(T-4)     當沖賣出金額  當沖賣出金額(T-1)  當沖賣出金額(T-2)  \\\n",
       "0       110898.50    102355.40  405924.84    124619.05    183352.09   \n",
       "1          155.35       202.30     424.10         0.00         0.00   \n",
       "2          933.15      1589.50    4885.80      2003.75      4718.15   \n",
       "3           49.96         0.00       0.00         0.00         0.00   \n",
       "4          681.80       483.04     877.88        42.78       493.24   \n",
       "...           ...          ...        ...          ...          ...   \n",
       "2305      1085.10      2701.30    2258.30       285.75       817.65   \n",
       "2306         0.00         0.00       0.00         0.00         0.00   \n",
       "2307     82056.10     30594.20   87511.00     55218.00     53725.90   \n",
       "2308      5185.75       123.75    1798.80       211.20       505.10   \n",
       "2309       358.35       901.65    1991.65       164.55       589.75   \n",
       "\n",
       "      當沖賣出金額(T-3)  當沖賣出金額(T-4)   sum_money  new_sum_money  \n",
       "0       111031.05    102550.70  1853804.49      185380.45  \n",
       "1          154.90       204.65     1564.95         260.83  \n",
       "2          936.25      1590.05    28241.00        2824.10  \n",
       "3           50.40         0.00      100.36          50.18  \n",
       "4          682.26       483.84     5144.02         514.40  \n",
       "...           ...          ...         ...            ...  \n",
       "2305      1083.60      2707.05    14324.85        1432.48  \n",
       "2306         0.00         0.00        0.00           0.00  \n",
       "2307     82344.10     30613.40   618515.70       61851.57  \n",
       "2308      5208.50       124.30    15677.60        1567.76  \n",
       "2309       359.00       906.85     8024.80         802.48  \n",
       "\n",
       "[2310 rows x 15 columns]"
      ]
     },
     "execution_count": 64,
     "metadata": {},
     "output_type": "execute_result"
    }
   ],
   "source": [
    "day_trading_amt_last_5_df"
   ]
  },
  {
   "cell_type": "markdown",
   "id": "d690ca52",
   "metadata": {},
   "source": [
    "---\n",
    "# 測試結束"
   ]
  }
 ],
 "metadata": {
  "kernelspec": {
   "display_name": "Python 3",
   "language": "python",
   "name": "python3"
  },
  "language_info": {
   "codemirror_mode": {
    "name": "ipython",
    "version": 3
   },
   "file_extension": ".py",
   "mimetype": "text/x-python",
   "name": "python",
   "nbconvert_exporter": "python",
   "pygments_lexer": "ipython3",
   "version": "3.8.10"
  }
 },
 "nbformat": 4,
 "nbformat_minor": 5
}
